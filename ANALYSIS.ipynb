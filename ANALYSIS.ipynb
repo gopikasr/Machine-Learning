{
  "nbformat": 4,
  "nbformat_minor": 0,
  "metadata": {
    "colab": {
      "name": "ANALYSIS.ipynb",
      "provenance": [],
      "collapsed_sections": [],
      "toc_visible": true
    },
    "kernelspec": {
      "name": "python3",
      "display_name": "Python 3"
    },
    "language_info": {
      "name": "python"
    }
  },
  "cells": [
    {
      "cell_type": "markdown",
      "metadata": {
        "id": "xBdXpH-HO_VL"
      },
      "source": [
        "## Submitted By\n",
        "\n",
        "# **Gopika S R**\n",
        "\n",
        "## Department: **Economic Sciences**"
      ]
    },
    {
      "cell_type": "markdown",
      "metadata": {
        "id": "fz1oFNXuXz7O"
      },
      "source": [
        "# **PREDICTING THE GENDER OF INDIAN SCHOOL TEACHERS USING THE PERCEIVED LEVEL OF STRESS AND ANXIETY IN COVID-19 OUTBREAK:** \n",
        "\n",
        "## ***A COMPARATIVE ANALYSIS OF VARIOUS MACHINE LEARNING MODELS***\n"
      ]
    },
    {
      "cell_type": "markdown",
      "metadata": {
        "id": "x6Dt6tbNYCyR"
      },
      "source": [
        "Youtube link: https://youtu.be/RjQMsUF0sy4"
      ]
    },
    {
      "cell_type": "markdown",
      "metadata": {
        "id": "s-dbyASTqXIA"
      },
      "source": [
        "![pexels-photo-4145153.jpeg](data:image/jpeg;base64,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)"
      ]
    },
    {
      "cell_type": "markdown",
      "metadata": {
        "id": "hWfcpSikRtJK"
      },
      "source": [
        "To predict the gender of a person using their perceived stress score, anxiety score in COVID19, age, minimum hours they teach and the no of children they have\n"
      ]
    },
    {
      "cell_type": "code",
      "metadata": {
        "id": "vR61MAwuSKRi",
        "colab": {
          "base_uri": "https://localhost:8080/",
          "height": 555
        },
        "outputId": "3e697744-5979-4e68-8c4d-914e8b8725c4"
      },
      "source": [
        "import pandas as pd\n",
        "import numpy as np\n",
        "import matplotlib.pyplot as plt\n",
        "df=pd.read_csv('/content/Data_covid (1).csv')\n",
        "df"
      ],
      "execution_count": null,
      "outputs": [
        {
          "output_type": "execute_result",
          "data": {
            "text/html": [
              "<div>\n",
              "<style scoped>\n",
              "    .dataframe tbody tr th:only-of-type {\n",
              "        vertical-align: middle;\n",
              "    }\n",
              "\n",
              "    .dataframe tbody tr th {\n",
              "        vertical-align: top;\n",
              "    }\n",
              "\n",
              "    .dataframe thead th {\n",
              "        text-align: right;\n",
              "    }\n",
              "</style>\n",
              "<table border=\"1\" class=\"dataframe\">\n",
              "  <thead>\n",
              "    <tr style=\"text-align: right;\">\n",
              "      <th></th>\n",
              "      <th>Gender</th>\n",
              "      <th>Age</th>\n",
              "      <th>married_or_not</th>\n",
              "      <th>Marital status</th>\n",
              "      <th>No_of_children</th>\n",
              "      <th>Teaching class</th>\n",
              "      <th>Anxiety_Score</th>\n",
              "      <th>Stress_Score</th>\n",
              "      <th>Hrs involved in teaching</th>\n",
              "      <th>Usual Hrs involved in teaching</th>\n",
              "    </tr>\n",
              "  </thead>\n",
              "  <tbody>\n",
              "    <tr>\n",
              "      <th>0</th>\n",
              "      <td>Female</td>\n",
              "      <td>28</td>\n",
              "      <td>1</td>\n",
              "      <td>Married</td>\n",
              "      <td>2</td>\n",
              "      <td>Secondary</td>\n",
              "      <td>12</td>\n",
              "      <td>21</td>\n",
              "      <td>three-four</td>\n",
              "      <td>3</td>\n",
              "    </tr>\n",
              "    <tr>\n",
              "      <th>1</th>\n",
              "      <td>Female</td>\n",
              "      <td>39</td>\n",
              "      <td>1</td>\n",
              "      <td>Married</td>\n",
              "      <td>3</td>\n",
              "      <td>Secondary</td>\n",
              "      <td>10</td>\n",
              "      <td>20</td>\n",
              "      <td>three-four</td>\n",
              "      <td>3</td>\n",
              "    </tr>\n",
              "    <tr>\n",
              "      <th>2</th>\n",
              "      <td>Female</td>\n",
              "      <td>40</td>\n",
              "      <td>1</td>\n",
              "      <td>Married</td>\n",
              "      <td>3</td>\n",
              "      <td>Secondary</td>\n",
              "      <td>12</td>\n",
              "      <td>18</td>\n",
              "      <td>Five-six</td>\n",
              "      <td>5</td>\n",
              "    </tr>\n",
              "    <tr>\n",
              "      <th>3</th>\n",
              "      <td>Female</td>\n",
              "      <td>34</td>\n",
              "      <td>1</td>\n",
              "      <td>Married</td>\n",
              "      <td>2</td>\n",
              "      <td>Secondary</td>\n",
              "      <td>10</td>\n",
              "      <td>20</td>\n",
              "      <td>three-four</td>\n",
              "      <td>3</td>\n",
              "    </tr>\n",
              "    <tr>\n",
              "      <th>4</th>\n",
              "      <td>Female</td>\n",
              "      <td>27</td>\n",
              "      <td>1</td>\n",
              "      <td>Married</td>\n",
              "      <td>1</td>\n",
              "      <td>Secondary</td>\n",
              "      <td>11</td>\n",
              "      <td>19</td>\n",
              "      <td>three-four</td>\n",
              "      <td>3</td>\n",
              "    </tr>\n",
              "    <tr>\n",
              "      <th>...</th>\n",
              "      <td>...</td>\n",
              "      <td>...</td>\n",
              "      <td>...</td>\n",
              "      <td>...</td>\n",
              "      <td>...</td>\n",
              "      <td>...</td>\n",
              "      <td>...</td>\n",
              "      <td>...</td>\n",
              "      <td>...</td>\n",
              "      <td>...</td>\n",
              "    </tr>\n",
              "    <tr>\n",
              "      <th>534</th>\n",
              "      <td>Male</td>\n",
              "      <td>55</td>\n",
              "      <td>1</td>\n",
              "      <td>Married</td>\n",
              "      <td>2</td>\n",
              "      <td>Pre primary</td>\n",
              "      <td>14</td>\n",
              "      <td>34</td>\n",
              "      <td>Three-Four</td>\n",
              "      <td>3</td>\n",
              "    </tr>\n",
              "    <tr>\n",
              "      <th>535</th>\n",
              "      <td>Male</td>\n",
              "      <td>40</td>\n",
              "      <td>1</td>\n",
              "      <td>Married</td>\n",
              "      <td>2</td>\n",
              "      <td>Pre primary</td>\n",
              "      <td>11</td>\n",
              "      <td>32</td>\n",
              "      <td>Three-Four</td>\n",
              "      <td>3</td>\n",
              "    </tr>\n",
              "    <tr>\n",
              "      <th>536</th>\n",
              "      <td>Female</td>\n",
              "      <td>43</td>\n",
              "      <td>1</td>\n",
              "      <td>Married</td>\n",
              "      <td>2</td>\n",
              "      <td>Pre primary</td>\n",
              "      <td>10</td>\n",
              "      <td>29</td>\n",
              "      <td>Three-Four</td>\n",
              "      <td>3</td>\n",
              "    </tr>\n",
              "    <tr>\n",
              "      <th>537</th>\n",
              "      <td>Female</td>\n",
              "      <td>60</td>\n",
              "      <td>1</td>\n",
              "      <td>Married</td>\n",
              "      <td>2</td>\n",
              "      <td>Pre primary</td>\n",
              "      <td>14</td>\n",
              "      <td>28</td>\n",
              "      <td>Three-Four</td>\n",
              "      <td>3</td>\n",
              "    </tr>\n",
              "    <tr>\n",
              "      <th>538</th>\n",
              "      <td>Female</td>\n",
              "      <td>40</td>\n",
              "      <td>1</td>\n",
              "      <td>Married</td>\n",
              "      <td>2</td>\n",
              "      <td>Pre primary</td>\n",
              "      <td>11</td>\n",
              "      <td>31</td>\n",
              "      <td>Three-Four</td>\n",
              "      <td>3</td>\n",
              "    </tr>\n",
              "  </tbody>\n",
              "</table>\n",
              "<p>539 rows × 10 columns</p>\n",
              "</div>"
            ],
            "text/plain": [
              "     Gender  Age  ...  Hrs involved in teaching Usual Hrs involved in teaching\n",
              "0    Female   28  ...                three-four                              3\n",
              "1    Female   39  ...                three-four                              3\n",
              "2    Female   40  ...                  Five-six                              5\n",
              "3    Female   34  ...                three-four                              3\n",
              "4    Female   27  ...                three-four                              3\n",
              "..      ...  ...  ...                       ...                            ...\n",
              "534    Male   55  ...                Three-Four                              3\n",
              "535    Male   40  ...                Three-Four                              3\n",
              "536  Female   43  ...                Three-Four                              3\n",
              "537  Female   60  ...                Three-Four                              3\n",
              "538  Female   40  ...                Three-Four                              3\n",
              "\n",
              "[539 rows x 10 columns]"
            ]
          },
          "metadata": {
            "tags": []
          },
          "execution_count": 1
        }
      ]
    },
    {
      "cell_type": "code",
      "metadata": {
        "colab": {
          "base_uri": "https://localhost:8080/"
        },
        "id": "5Accjzb6ZFei",
        "outputId": "c90320e1-53e6-4ad4-ab4d-8ad5d66b524d"
      },
      "source": [
        "df.info()"
      ],
      "execution_count": null,
      "outputs": [
        {
          "output_type": "stream",
          "text": [
            "<class 'pandas.core.frame.DataFrame'>\n",
            "RangeIndex: 539 entries, 0 to 538\n",
            "Data columns (total 10 columns):\n",
            " #   Column                          Non-Null Count  Dtype \n",
            "---  ------                          --------------  ----- \n",
            " 0   Gender                          539 non-null    object\n",
            " 1   Age                             539 non-null    int64 \n",
            " 2   married_or_not                  539 non-null    int64 \n",
            " 3   Marital status                  539 non-null    object\n",
            " 4   No_of_children                  539 non-null    int64 \n",
            " 5   Teaching class                  539 non-null    object\n",
            " 6   Anxiety_Score                   539 non-null    int64 \n",
            " 7   Stress_Score                    539 non-null    int64 \n",
            " 8   Hrs involved in teaching        539 non-null    object\n",
            " 9   Usual Hrs involved in teaching  539 non-null    int64 \n",
            "dtypes: int64(6), object(4)\n",
            "memory usage: 42.2+ KB\n"
          ],
          "name": "stdout"
        }
      ]
    },
    {
      "cell_type": "code",
      "metadata": {
        "id": "_CQlMNxVSKS5",
        "colab": {
          "base_uri": "https://localhost:8080/",
          "height": 419
        },
        "outputId": "5ada5c32-4df3-40d6-8ed2-b6838ca2aec8"
      },
      "source": [
        "selection = ['Gender','Age','Anxiety_Score','Stress_Score','No_of_children','Usual Hrs involved in teaching']\n",
        "DATA = df[selection]\n",
        "DATA"
      ],
      "execution_count": null,
      "outputs": [
        {
          "output_type": "execute_result",
          "data": {
            "text/html": [
              "<div>\n",
              "<style scoped>\n",
              "    .dataframe tbody tr th:only-of-type {\n",
              "        vertical-align: middle;\n",
              "    }\n",
              "\n",
              "    .dataframe tbody tr th {\n",
              "        vertical-align: top;\n",
              "    }\n",
              "\n",
              "    .dataframe thead th {\n",
              "        text-align: right;\n",
              "    }\n",
              "</style>\n",
              "<table border=\"1\" class=\"dataframe\">\n",
              "  <thead>\n",
              "    <tr style=\"text-align: right;\">\n",
              "      <th></th>\n",
              "      <th>Gender</th>\n",
              "      <th>Age</th>\n",
              "      <th>Anxiety_Score</th>\n",
              "      <th>Stress_Score</th>\n",
              "      <th>No_of_children</th>\n",
              "      <th>Usual Hrs involved in teaching</th>\n",
              "    </tr>\n",
              "  </thead>\n",
              "  <tbody>\n",
              "    <tr>\n",
              "      <th>0</th>\n",
              "      <td>Female</td>\n",
              "      <td>28</td>\n",
              "      <td>12</td>\n",
              "      <td>21</td>\n",
              "      <td>2</td>\n",
              "      <td>3</td>\n",
              "    </tr>\n",
              "    <tr>\n",
              "      <th>1</th>\n",
              "      <td>Female</td>\n",
              "      <td>39</td>\n",
              "      <td>10</td>\n",
              "      <td>20</td>\n",
              "      <td>3</td>\n",
              "      <td>3</td>\n",
              "    </tr>\n",
              "    <tr>\n",
              "      <th>2</th>\n",
              "      <td>Female</td>\n",
              "      <td>40</td>\n",
              "      <td>12</td>\n",
              "      <td>18</td>\n",
              "      <td>3</td>\n",
              "      <td>5</td>\n",
              "    </tr>\n",
              "    <tr>\n",
              "      <th>3</th>\n",
              "      <td>Female</td>\n",
              "      <td>34</td>\n",
              "      <td>10</td>\n",
              "      <td>20</td>\n",
              "      <td>2</td>\n",
              "      <td>3</td>\n",
              "    </tr>\n",
              "    <tr>\n",
              "      <th>4</th>\n",
              "      <td>Female</td>\n",
              "      <td>27</td>\n",
              "      <td>11</td>\n",
              "      <td>19</td>\n",
              "      <td>1</td>\n",
              "      <td>3</td>\n",
              "    </tr>\n",
              "    <tr>\n",
              "      <th>...</th>\n",
              "      <td>...</td>\n",
              "      <td>...</td>\n",
              "      <td>...</td>\n",
              "      <td>...</td>\n",
              "      <td>...</td>\n",
              "      <td>...</td>\n",
              "    </tr>\n",
              "    <tr>\n",
              "      <th>534</th>\n",
              "      <td>Male</td>\n",
              "      <td>55</td>\n",
              "      <td>14</td>\n",
              "      <td>34</td>\n",
              "      <td>2</td>\n",
              "      <td>3</td>\n",
              "    </tr>\n",
              "    <tr>\n",
              "      <th>535</th>\n",
              "      <td>Male</td>\n",
              "      <td>40</td>\n",
              "      <td>11</td>\n",
              "      <td>32</td>\n",
              "      <td>2</td>\n",
              "      <td>3</td>\n",
              "    </tr>\n",
              "    <tr>\n",
              "      <th>536</th>\n",
              "      <td>Female</td>\n",
              "      <td>43</td>\n",
              "      <td>10</td>\n",
              "      <td>29</td>\n",
              "      <td>2</td>\n",
              "      <td>3</td>\n",
              "    </tr>\n",
              "    <tr>\n",
              "      <th>537</th>\n",
              "      <td>Female</td>\n",
              "      <td>60</td>\n",
              "      <td>14</td>\n",
              "      <td>28</td>\n",
              "      <td>2</td>\n",
              "      <td>3</td>\n",
              "    </tr>\n",
              "    <tr>\n",
              "      <th>538</th>\n",
              "      <td>Female</td>\n",
              "      <td>40</td>\n",
              "      <td>11</td>\n",
              "      <td>31</td>\n",
              "      <td>2</td>\n",
              "      <td>3</td>\n",
              "    </tr>\n",
              "  </tbody>\n",
              "</table>\n",
              "<p>539 rows × 6 columns</p>\n",
              "</div>"
            ],
            "text/plain": [
              "     Gender  Age  ...  No_of_children  Usual Hrs involved in teaching\n",
              "0    Female   28  ...               2                               3\n",
              "1    Female   39  ...               3                               3\n",
              "2    Female   40  ...               3                               5\n",
              "3    Female   34  ...               2                               3\n",
              "4    Female   27  ...               1                               3\n",
              "..      ...  ...  ...             ...                             ...\n",
              "534    Male   55  ...               2                               3\n",
              "535    Male   40  ...               2                               3\n",
              "536  Female   43  ...               2                               3\n",
              "537  Female   60  ...               2                               3\n",
              "538  Female   40  ...               2                               3\n",
              "\n",
              "[539 rows x 6 columns]"
            ]
          },
          "metadata": {
            "tags": []
          },
          "execution_count": 3
        }
      ]
    },
    {
      "cell_type": "code",
      "metadata": {
        "id": "bVjWAuakSKWJ",
        "colab": {
          "base_uri": "https://localhost:8080/"
        },
        "outputId": "d777d1db-a477-477d-f8d1-5760a74e3665"
      },
      "source": [
        "DATA.info()"
      ],
      "execution_count": null,
      "outputs": [
        {
          "output_type": "stream",
          "text": [
            "<class 'pandas.core.frame.DataFrame'>\n",
            "RangeIndex: 539 entries, 0 to 538\n",
            "Data columns (total 6 columns):\n",
            " #   Column                          Non-Null Count  Dtype \n",
            "---  ------                          --------------  ----- \n",
            " 0   Gender                          539 non-null    object\n",
            " 1   Age                             539 non-null    int64 \n",
            " 2   Anxiety_Score                   539 non-null    int64 \n",
            " 3   Stress_Score                    539 non-null    int64 \n",
            " 4   No_of_children                  539 non-null    int64 \n",
            " 5   Usual Hrs involved in teaching  539 non-null    int64 \n",
            "dtypes: int64(5), object(1)\n",
            "memory usage: 25.4+ KB\n"
          ],
          "name": "stdout"
        }
      ]
    },
    {
      "cell_type": "code",
      "metadata": {
        "colab": {
          "base_uri": "https://localhost:8080/",
          "height": 288
        },
        "id": "4KL9AD-ZJ30t",
        "outputId": "b33ee585-7bcb-4c32-900c-0dc2f201dc9a"
      },
      "source": [
        "DATA.describe()"
      ],
      "execution_count": null,
      "outputs": [
        {
          "output_type": "execute_result",
          "data": {
            "text/html": [
              "<div>\n",
              "<style scoped>\n",
              "    .dataframe tbody tr th:only-of-type {\n",
              "        vertical-align: middle;\n",
              "    }\n",
              "\n",
              "    .dataframe tbody tr th {\n",
              "        vertical-align: top;\n",
              "    }\n",
              "\n",
              "    .dataframe thead th {\n",
              "        text-align: right;\n",
              "    }\n",
              "</style>\n",
              "<table border=\"1\" class=\"dataframe\">\n",
              "  <thead>\n",
              "    <tr style=\"text-align: right;\">\n",
              "      <th></th>\n",
              "      <th>Age</th>\n",
              "      <th>Anxiety_Score</th>\n",
              "      <th>Stress_Score</th>\n",
              "      <th>No_of_children</th>\n",
              "      <th>Usual Hrs involved in teaching</th>\n",
              "    </tr>\n",
              "  </thead>\n",
              "  <tbody>\n",
              "    <tr>\n",
              "      <th>count</th>\n",
              "      <td>539.000000</td>\n",
              "      <td>539.000000</td>\n",
              "      <td>539.000000</td>\n",
              "      <td>539.000000</td>\n",
              "      <td>539.000000</td>\n",
              "    </tr>\n",
              "    <tr>\n",
              "      <th>mean</th>\n",
              "      <td>34.987013</td>\n",
              "      <td>9.705009</td>\n",
              "      <td>19.734694</td>\n",
              "      <td>1.435993</td>\n",
              "      <td>3.048237</td>\n",
              "    </tr>\n",
              "    <tr>\n",
              "      <th>std</th>\n",
              "      <td>7.971943</td>\n",
              "      <td>3.532140</td>\n",
              "      <td>8.484083</td>\n",
              "      <td>0.909003</td>\n",
              "      <td>0.613882</td>\n",
              "    </tr>\n",
              "    <tr>\n",
              "      <th>min</th>\n",
              "      <td>25.000000</td>\n",
              "      <td>0.000000</td>\n",
              "      <td>0.000000</td>\n",
              "      <td>0.000000</td>\n",
              "      <td>1.000000</td>\n",
              "    </tr>\n",
              "    <tr>\n",
              "      <th>25%</th>\n",
              "      <td>29.000000</td>\n",
              "      <td>7.000000</td>\n",
              "      <td>15.000000</td>\n",
              "      <td>1.000000</td>\n",
              "      <td>3.000000</td>\n",
              "    </tr>\n",
              "    <tr>\n",
              "      <th>50%</th>\n",
              "      <td>32.000000</td>\n",
              "      <td>10.000000</td>\n",
              "      <td>20.000000</td>\n",
              "      <td>2.000000</td>\n",
              "      <td>3.000000</td>\n",
              "    </tr>\n",
              "    <tr>\n",
              "      <th>75%</th>\n",
              "      <td>41.000000</td>\n",
              "      <td>13.000000</td>\n",
              "      <td>26.000000</td>\n",
              "      <td>2.000000</td>\n",
              "      <td>3.000000</td>\n",
              "    </tr>\n",
              "    <tr>\n",
              "      <th>max</th>\n",
              "      <td>60.000000</td>\n",
              "      <td>21.000000</td>\n",
              "      <td>40.000000</td>\n",
              "      <td>5.000000</td>\n",
              "      <td>5.000000</td>\n",
              "    </tr>\n",
              "  </tbody>\n",
              "</table>\n",
              "</div>"
            ],
            "text/plain": [
              "              Age  ...  Usual Hrs involved in teaching\n",
              "count  539.000000  ...                      539.000000\n",
              "mean    34.987013  ...                        3.048237\n",
              "std      7.971943  ...                        0.613882\n",
              "min     25.000000  ...                        1.000000\n",
              "25%     29.000000  ...                        3.000000\n",
              "50%     32.000000  ...                        3.000000\n",
              "75%     41.000000  ...                        3.000000\n",
              "max     60.000000  ...                        5.000000\n",
              "\n",
              "[8 rows x 5 columns]"
            ]
          },
          "metadata": {
            "tags": []
          },
          "execution_count": 212
        }
      ]
    },
    {
      "cell_type": "markdown",
      "metadata": {
        "id": "ez2kIoyHSXh_"
      },
      "source": [
        "The variables we need to take into consideration which are the 'gender',  'Age', 'No_of_children', 'Anxiety_Score', 'Stress_score'and 'hrs' are non-null and of dtype int64"
      ]
    },
    {
      "cell_type": "code",
      "metadata": {
        "id": "062UT1jcSa0u",
        "colab": {
          "base_uri": "https://localhost:8080/",
          "height": 419
        },
        "outputId": "25d2ff1e-e2f4-4bd5-867a-798e19a7b972"
      },
      "source": [
        "#assigning the indepnedent variables,X and the dependent variable Y.\n",
        "X=DATA.iloc[:,1:6]\n",
        "Y=DATA.iloc[:,0:1]\n",
        "Y"
      ],
      "execution_count": null,
      "outputs": [
        {
          "output_type": "execute_result",
          "data": {
            "text/html": [
              "<div>\n",
              "<style scoped>\n",
              "    .dataframe tbody tr th:only-of-type {\n",
              "        vertical-align: middle;\n",
              "    }\n",
              "\n",
              "    .dataframe tbody tr th {\n",
              "        vertical-align: top;\n",
              "    }\n",
              "\n",
              "    .dataframe thead th {\n",
              "        text-align: right;\n",
              "    }\n",
              "</style>\n",
              "<table border=\"1\" class=\"dataframe\">\n",
              "  <thead>\n",
              "    <tr style=\"text-align: right;\">\n",
              "      <th></th>\n",
              "      <th>Gender</th>\n",
              "    </tr>\n",
              "  </thead>\n",
              "  <tbody>\n",
              "    <tr>\n",
              "      <th>0</th>\n",
              "      <td>Female</td>\n",
              "    </tr>\n",
              "    <tr>\n",
              "      <th>1</th>\n",
              "      <td>Female</td>\n",
              "    </tr>\n",
              "    <tr>\n",
              "      <th>2</th>\n",
              "      <td>Female</td>\n",
              "    </tr>\n",
              "    <tr>\n",
              "      <th>3</th>\n",
              "      <td>Female</td>\n",
              "    </tr>\n",
              "    <tr>\n",
              "      <th>4</th>\n",
              "      <td>Female</td>\n",
              "    </tr>\n",
              "    <tr>\n",
              "      <th>...</th>\n",
              "      <td>...</td>\n",
              "    </tr>\n",
              "    <tr>\n",
              "      <th>534</th>\n",
              "      <td>Male</td>\n",
              "    </tr>\n",
              "    <tr>\n",
              "      <th>535</th>\n",
              "      <td>Male</td>\n",
              "    </tr>\n",
              "    <tr>\n",
              "      <th>536</th>\n",
              "      <td>Female</td>\n",
              "    </tr>\n",
              "    <tr>\n",
              "      <th>537</th>\n",
              "      <td>Female</td>\n",
              "    </tr>\n",
              "    <tr>\n",
              "      <th>538</th>\n",
              "      <td>Female</td>\n",
              "    </tr>\n",
              "  </tbody>\n",
              "</table>\n",
              "<p>539 rows × 1 columns</p>\n",
              "</div>"
            ],
            "text/plain": [
              "     Gender\n",
              "0    Female\n",
              "1    Female\n",
              "2    Female\n",
              "3    Female\n",
              "4    Female\n",
              "..      ...\n",
              "534    Male\n",
              "535    Male\n",
              "536  Female\n",
              "537  Female\n",
              "538  Female\n",
              "\n",
              "[539 rows x 1 columns]"
            ]
          },
          "metadata": {
            "tags": []
          },
          "execution_count": 4
        }
      ]
    },
    {
      "cell_type": "code",
      "metadata": {
        "colab": {
          "base_uri": "https://localhost:8080/"
        },
        "id": "qeVI9pMFfR2m",
        "outputId": "fcf4f9c1-c4cf-4375-a0e9-6e037cada9ba"
      },
      "source": [
        "DATA['Gender'].value_counts()"
      ],
      "execution_count": null,
      "outputs": [
        {
          "output_type": "execute_result",
          "data": {
            "text/plain": [
              "Female    410\n",
              "Male      129\n",
              "Name: Gender, dtype: int64"
            ]
          },
          "metadata": {
            "tags": []
          },
          "execution_count": 29
        }
      ]
    },
    {
      "cell_type": "code",
      "metadata": {
        "colab": {
          "base_uri": "https://localhost:8080/",
          "height": 419
        },
        "id": "ITJeAiTOUJNy",
        "outputId": "9d89e8c6-5132-4d20-f218-16516b347044"
      },
      "source": [
        "X"
      ],
      "execution_count": null,
      "outputs": [
        {
          "output_type": "execute_result",
          "data": {
            "text/html": [
              "<div>\n",
              "<style scoped>\n",
              "    .dataframe tbody tr th:only-of-type {\n",
              "        vertical-align: middle;\n",
              "    }\n",
              "\n",
              "    .dataframe tbody tr th {\n",
              "        vertical-align: top;\n",
              "    }\n",
              "\n",
              "    .dataframe thead th {\n",
              "        text-align: right;\n",
              "    }\n",
              "</style>\n",
              "<table border=\"1\" class=\"dataframe\">\n",
              "  <thead>\n",
              "    <tr style=\"text-align: right;\">\n",
              "      <th></th>\n",
              "      <th>Age</th>\n",
              "      <th>Anxiety_Score</th>\n",
              "      <th>Stress_Score</th>\n",
              "      <th>No_of_children</th>\n",
              "      <th>Usual Hrs involved in teaching</th>\n",
              "    </tr>\n",
              "  </thead>\n",
              "  <tbody>\n",
              "    <tr>\n",
              "      <th>0</th>\n",
              "      <td>28</td>\n",
              "      <td>12</td>\n",
              "      <td>21</td>\n",
              "      <td>2</td>\n",
              "      <td>3</td>\n",
              "    </tr>\n",
              "    <tr>\n",
              "      <th>1</th>\n",
              "      <td>39</td>\n",
              "      <td>10</td>\n",
              "      <td>20</td>\n",
              "      <td>3</td>\n",
              "      <td>3</td>\n",
              "    </tr>\n",
              "    <tr>\n",
              "      <th>2</th>\n",
              "      <td>40</td>\n",
              "      <td>12</td>\n",
              "      <td>18</td>\n",
              "      <td>3</td>\n",
              "      <td>5</td>\n",
              "    </tr>\n",
              "    <tr>\n",
              "      <th>3</th>\n",
              "      <td>34</td>\n",
              "      <td>10</td>\n",
              "      <td>20</td>\n",
              "      <td>2</td>\n",
              "      <td>3</td>\n",
              "    </tr>\n",
              "    <tr>\n",
              "      <th>4</th>\n",
              "      <td>27</td>\n",
              "      <td>11</td>\n",
              "      <td>19</td>\n",
              "      <td>1</td>\n",
              "      <td>3</td>\n",
              "    </tr>\n",
              "    <tr>\n",
              "      <th>...</th>\n",
              "      <td>...</td>\n",
              "      <td>...</td>\n",
              "      <td>...</td>\n",
              "      <td>...</td>\n",
              "      <td>...</td>\n",
              "    </tr>\n",
              "    <tr>\n",
              "      <th>534</th>\n",
              "      <td>55</td>\n",
              "      <td>14</td>\n",
              "      <td>34</td>\n",
              "      <td>2</td>\n",
              "      <td>3</td>\n",
              "    </tr>\n",
              "    <tr>\n",
              "      <th>535</th>\n",
              "      <td>40</td>\n",
              "      <td>11</td>\n",
              "      <td>32</td>\n",
              "      <td>2</td>\n",
              "      <td>3</td>\n",
              "    </tr>\n",
              "    <tr>\n",
              "      <th>536</th>\n",
              "      <td>43</td>\n",
              "      <td>10</td>\n",
              "      <td>29</td>\n",
              "      <td>2</td>\n",
              "      <td>3</td>\n",
              "    </tr>\n",
              "    <tr>\n",
              "      <th>537</th>\n",
              "      <td>60</td>\n",
              "      <td>14</td>\n",
              "      <td>28</td>\n",
              "      <td>2</td>\n",
              "      <td>3</td>\n",
              "    </tr>\n",
              "    <tr>\n",
              "      <th>538</th>\n",
              "      <td>40</td>\n",
              "      <td>11</td>\n",
              "      <td>31</td>\n",
              "      <td>2</td>\n",
              "      <td>3</td>\n",
              "    </tr>\n",
              "  </tbody>\n",
              "</table>\n",
              "<p>539 rows × 5 columns</p>\n",
              "</div>"
            ],
            "text/plain": [
              "     Age  Anxiety_Score  ...  No_of_children  Usual Hrs involved in teaching\n",
              "0     28             12  ...               2                               3\n",
              "1     39             10  ...               3                               3\n",
              "2     40             12  ...               3                               5\n",
              "3     34             10  ...               2                               3\n",
              "4     27             11  ...               1                               3\n",
              "..   ...            ...  ...             ...                             ...\n",
              "534   55             14  ...               2                               3\n",
              "535   40             11  ...               2                               3\n",
              "536   43             10  ...               2                               3\n",
              "537   60             14  ...               2                               3\n",
              "538   40             11  ...               2                               3\n",
              "\n",
              "[539 rows x 5 columns]"
            ]
          },
          "metadata": {
            "tags": []
          },
          "execution_count": 30
        }
      ]
    },
    {
      "cell_type": "code",
      "metadata": {
        "colab": {
          "base_uri": "https://localhost:8080/",
          "height": 760
        },
        "id": "aTDvBQ1CsiC5",
        "outputId": "37f14e09-b92f-40c4-ea99-1b61c820354e"
      },
      "source": [
        "#PEARSON CORRELATION PLOT\n",
        "import seaborn as sns\n",
        "def correlation_map(df):\n",
        "    _ , ax = plt.subplots(figsize =(14, 12))\n",
        "    colormap = sns.diverging_palette(220, 10, as_cmap = True)\n",
        "    \n",
        "    _ = sns.heatmap(\n",
        "        df.corr(), \n",
        "        cmap = colormap,\n",
        "        square=True, \n",
        "        cbar_kws={'shrink':.9 }, \n",
        "        ax=ax,\n",
        "        annot=True, \n",
        "        linewidths=0.1,vmax=1.0, linecolor='white',\n",
        "        annot_kws={'fontsize':12 }\n",
        "    )\n",
        "    \n",
        "    plt.title('Pearson Correlation of Features', y=1.05, size=15)\n",
        "\n",
        "correlation_map(DATA)"
      ],
      "execution_count": null,
      "outputs": [
        {
          "output_type": "display_data",
          "data": {
            "image/png": "[encoded data removed]",
            "text/plain": [
              "<Figure size 1008x864 with 2 Axes>"
            ]
          },
          "metadata": {
            "tags": [],
            "needs_background": "light"
          }
        }
      ]
    },
    {
      "cell_type": "code",
      "metadata": {
        "colab": {
          "base_uri": "https://localhost:8080/",
          "height": 313
        },
        "id": "s8QDJQVruHCu",
        "outputId": "e3efb962-f63e-4b21-a39b-6b6ee5d52ae2"
      },
      "source": [
        "plt.scatter(x=DATA[\"Age\"],y=DATA[\"Gender\"])\n",
        "plt.xlabel(\"Age\")\n",
        "plt.ylabel(\"Gender\")\n",
        "plt.title('scatter plot between Age and Gender')\n",
        "plt.show"
      ],
      "execution_count": null,
      "outputs": [
        {
          "output_type": "execute_result",
          "data": {
            "text/plain": [
              "<function matplotlib.pyplot.show>"
            ]
          },
          "metadata": {
            "tags": []
          },
          "execution_count": 217
        },
        {
          "output_type": "display_data",
          "data": {
            "image/png": "[encoded data removed]",
            "text/plain": [
              "<Figure size 432x288 with 1 Axes>"
            ]
          },
          "metadata": {
            "tags": [],
            "needs_background": "light"
          }
        }
      ]
    },
    {
      "cell_type": "code",
      "metadata": {
        "colab": {
          "base_uri": "https://localhost:8080/",
          "height": 313
        },
        "id": "sEpV26X8ubri",
        "outputId": "cf765312-dd22-4956-d54b-fd19a1de6fe3"
      },
      "source": [
        "plt.scatter(x=DATA[\"No_of_children\"],y=DATA[\"Gender\"])\n",
        "plt.xlabel(\"No_of_children\")\n",
        "plt.ylabel(\"Gender\")\n",
        "plt.title('scatter plot between No_of_children they have and their Gender')\n",
        "plt.show"
      ],
      "execution_count": null,
      "outputs": [
        {
          "output_type": "execute_result",
          "data": {
            "text/plain": [
              "<function matplotlib.pyplot.show>"
            ]
          },
          "metadata": {
            "tags": []
          },
          "execution_count": 218
        },
        {
          "output_type": "display_data",
          "data": {
            "image/png": "[encoded data removed]",
            "text/plain": [
              "<Figure size 432x288 with 1 Axes>"
            ]
          },
          "metadata": {
            "tags": [],
            "needs_background": "light"
          }
        }
      ]
    },
    {
      "cell_type": "code",
      "metadata": {
        "colab": {
          "base_uri": "https://localhost:8080/",
          "height": 313
        },
        "id": "woY3ZARlubu6",
        "outputId": "64ce949a-2702-4981-988b-9f23432282a4"
      },
      "source": [
        "plt.scatter(x=DATA[\"Anxiety_Score\"],y=DATA[\"Gender\"])\n",
        "plt.xlabel(\"Anxiety_Score\")\n",
        "plt.ylabel(\"Gender\")\n",
        "plt.title('scatter plot between Anxiety Score  and their Gender')\n",
        "plt.show"
      ],
      "execution_count": null,
      "outputs": [
        {
          "output_type": "execute_result",
          "data": {
            "text/plain": [
              "<function matplotlib.pyplot.show>"
            ]
          },
          "metadata": {
            "tags": []
          },
          "execution_count": 219
        },
        {
          "output_type": "display_data",
          "data": {
            "image/png": "[encoded data removed]",
            "text/plain": [
              "<Figure size 432x288 with 1 Axes>"
            ]
          },
          "metadata": {
            "tags": [],
            "needs_background": "light"
          }
        }
      ]
    },
    {
      "cell_type": "code",
      "metadata": {
        "colab": {
          "base_uri": "https://localhost:8080/",
          "height": 313
        },
        "id": "T7AJv1Zaum6M",
        "outputId": "78bb2f4e-adce-4ba3-9831-748c6dbfd2b4"
      },
      "source": [
        "plt.scatter(x=DATA[\"Stress_Score\"],y=DATA[\"Gender\"])\n",
        "plt.xlabel(\"Stress_Score\")\n",
        "plt.ylabel(\"Gender\")\n",
        "plt.title('scatter plot between Stress Score  and their Gender')\n",
        "plt.show"
      ],
      "execution_count": null,
      "outputs": [
        {
          "output_type": "execute_result",
          "data": {
            "text/plain": [
              "<function matplotlib.pyplot.show>"
            ]
          },
          "metadata": {
            "tags": []
          },
          "execution_count": 220
        },
        {
          "output_type": "display_data",
          "data": {
            "image/png": "[encoded data removed]",
            "text/plain": [
              "<Figure size 432x288 with 1 Axes>"
            ]
          },
          "metadata": {
            "tags": [],
            "needs_background": "light"
          }
        }
      ]
    },
    {
      "cell_type": "code",
      "metadata": {
        "colab": {
          "base_uri": "https://localhost:8080/",
          "height": 313
        },
        "id": "aS1cC8TLunKg",
        "outputId": "f1aa3113-11c5-4cd1-b21d-34bf767c3dbf"
      },
      "source": [
        "plt.scatter(x=DATA[\"Usual Hrs involved in teaching\"],y=DATA[\"Gender\"])\n",
        "plt.xlabel(\"Usual Hrs involved in teaching\")\n",
        "plt.ylabel(\"Gender\")\n",
        "plt.title('scatter plot between Usual Hrs involved in teaching and their Gender')\n",
        "plt.show"
      ],
      "execution_count": null,
      "outputs": [
        {
          "output_type": "execute_result",
          "data": {
            "text/plain": [
              "<function matplotlib.pyplot.show>"
            ]
          },
          "metadata": {
            "tags": []
          },
          "execution_count": 221
        },
        {
          "output_type": "display_data",
          "data": {
            "image/png": "[encoded data removed]",
            "text/plain": [
              "<Figure size 432x288 with 1 Axes>"
            ]
          },
          "metadata": {
            "tags": [],
            "needs_background": "light"
          }
        }
      ]
    },
    {
      "cell_type": "code",
      "metadata": {
        "id": "FDp8ygGSvlOc"
      },
      "source": [
        "from sklearn.preprocessing import LabelEncoder, MinMaxScaler, StandardScaler"
      ],
      "execution_count": null,
      "outputs": []
    },
    {
      "cell_type": "code",
      "metadata": {
        "colab": {
          "base_uri": "https://localhost:8080/",
          "height": 473
        },
        "id": "oMnY-Va3v0Vp",
        "outputId": "9f450d82-0550-4c94-8395-85a4485587b3"
      },
      "source": [
        "labelencoder=LabelEncoder()\n",
        "Y=labelencoder.fit_transform(Y)\n",
        "pd.DataFrame(Y,columns= ['Gender_labelled'])"
      ],
      "execution_count": null,
      "outputs": [
        {
          "output_type": "stream",
          "text": [
            "/usr/local/lib/python3.7/dist-packages/sklearn/preprocessing/_label.py:251: DataConversionWarning: A column-vector y was passed when a 1d array was expected. Please change the shape of y to (n_samples, ), for example using ravel().\n",
            "  y = column_or_1d(y, warn=True)\n"
          ],
          "name": "stderr"
        },
        {
          "output_type": "execute_result",
          "data": {
            "text/html": [
              "<div>\n",
              "<style scoped>\n",
              "    .dataframe tbody tr th:only-of-type {\n",
              "        vertical-align: middle;\n",
              "    }\n",
              "\n",
              "    .dataframe tbody tr th {\n",
              "        vertical-align: top;\n",
              "    }\n",
              "\n",
              "    .dataframe thead th {\n",
              "        text-align: right;\n",
              "    }\n",
              "</style>\n",
              "<table border=\"1\" class=\"dataframe\">\n",
              "  <thead>\n",
              "    <tr style=\"text-align: right;\">\n",
              "      <th></th>\n",
              "      <th>Gender_labelled</th>\n",
              "    </tr>\n",
              "  </thead>\n",
              "  <tbody>\n",
              "    <tr>\n",
              "      <th>0</th>\n",
              "      <td>0</td>\n",
              "    </tr>\n",
              "    <tr>\n",
              "      <th>1</th>\n",
              "      <td>0</td>\n",
              "    </tr>\n",
              "    <tr>\n",
              "      <th>2</th>\n",
              "      <td>0</td>\n",
              "    </tr>\n",
              "    <tr>\n",
              "      <th>3</th>\n",
              "      <td>0</td>\n",
              "    </tr>\n",
              "    <tr>\n",
              "      <th>4</th>\n",
              "      <td>0</td>\n",
              "    </tr>\n",
              "    <tr>\n",
              "      <th>...</th>\n",
              "      <td>...</td>\n",
              "    </tr>\n",
              "    <tr>\n",
              "      <th>534</th>\n",
              "      <td>1</td>\n",
              "    </tr>\n",
              "    <tr>\n",
              "      <th>535</th>\n",
              "      <td>1</td>\n",
              "    </tr>\n",
              "    <tr>\n",
              "      <th>536</th>\n",
              "      <td>0</td>\n",
              "    </tr>\n",
              "    <tr>\n",
              "      <th>537</th>\n",
              "      <td>0</td>\n",
              "    </tr>\n",
              "    <tr>\n",
              "      <th>538</th>\n",
              "      <td>0</td>\n",
              "    </tr>\n",
              "  </tbody>\n",
              "</table>\n",
              "<p>539 rows × 1 columns</p>\n",
              "</div>"
            ],
            "text/plain": [
              "     Gender_labelled\n",
              "0                  0\n",
              "1                  0\n",
              "2                  0\n",
              "3                  0\n",
              "4                  0\n",
              "..               ...\n",
              "534                1\n",
              "535                1\n",
              "536                0\n",
              "537                0\n",
              "538                0\n",
              "\n",
              "[539 rows x 1 columns]"
            ]
          },
          "metadata": {
            "tags": []
          },
          "execution_count": 9
        }
      ]
    },
    {
      "cell_type": "code",
      "metadata": {
        "id": "isCIqDJScjvy"
      },
      "source": [
        "from sklearn.model_selection import train_test_split\n",
        "#I'm giving a 40% for testing \n",
        "X_scale=MinMaxScaler().fit_transform(X)\n",
        "X_train, X_test, Y_train, Y_test =train_test_split(X_scale,Y,test_size=0.2,random_state=0)"
      ],
      "execution_count": null,
      "outputs": []
    },
    {
      "cell_type": "code",
      "metadata": {
        "colab": {
          "base_uri": "https://localhost:8080/"
        },
        "id": "eRAxYm7E7SI9",
        "outputId": "8e163edb-a430-4bc2-b6e4-c0145ef6c306"
      },
      "source": [
        "n=X_train.shape\n",
        "print(\"shape of X_train is:-\",n)\n",
        "r=X_test.shape\n",
        "print(\"shape of X_test is:-\",r)\n",
        "k=Y_train.shape\n",
        "print(\"shape of Y_train is:-\",k)\n",
        "f=Y_test.shape\n",
        "print(\"shape of Y_test is:-\",f)"
      ],
      "execution_count": null,
      "outputs": [
        {
          "output_type": "stream",
          "text": [
            "shape of X_train is:- (431, 5)\n",
            "shape of X_test is:- (108, 5)\n",
            "shape of Y_train is:- (431,)\n",
            "shape of Y_test is:- (108,)\n"
          ],
          "name": "stdout"
        }
      ]
    },
    {
      "cell_type": "markdown",
      "metadata": {
        "id": "zNsEBZoqUP8T"
      },
      "source": [
        "linear regression"
      ]
    },
    {
      "cell_type": "code",
      "metadata": {
        "id": "FGg4D1GHSedG"
      },
      "source": [
        "from sklearn.linear_model import LinearRegression\n",
        "from sklearn.metrics import mean_squared_error, r2_score\n",
        "from sklearn import preprocessing"
      ],
      "execution_count": null,
      "outputs": []
    },
    {
      "cell_type": "code",
      "metadata": {
        "id": "eSfuHypzSfR8",
        "colab": {
          "base_uri": "https://localhost:8080/"
        },
        "outputId": "e6d08184-69a1-4299-ae45-aa4ede879cb5"
      },
      "source": [
        "#now linear regression\n",
        "reg=LinearRegression()\n",
        "reg.fit(X_train,Y_train)\n",
        "#for getting our predicted Y value from X_test value,the following code\n",
        "Y_pred=reg.predict(X_test)\n",
        "#the cofficient of x or the slope of the line \n",
        "print(\"Linear Regression Analysis results\")\n",
        "print(\"----------------------------------\")\n",
        "coefficient=reg.coef_\n",
        "print(\"The coefficients for x1,x2,x3,x4 & x4 are\",coefficient)\n",
        "#then we need to find the R squared score and mean squared error for checking how good the model is \n",
        "r2_value=r2_score(Y_test,Y_pred)\n",
        "MeanSquareError=mean_squared_error(Y_test,Y_pred)\n",
        "print(\"R squared Value of the model is\",r2_value)\n",
        "print('Accuracy on the Test set in (%) is ', round(reg.score(X_test, Y_test)*100, 2))\n",
        "print(\"Mean Squared Error of the model is\",MeanSquareError)"
      ],
      "execution_count": null,
      "outputs": [
        {
          "output_type": "stream",
          "text": [
            "Linear Regression Analysis results\n",
            "----------------------------------\n",
            "The coefficients for x1,x2,x3,x4 & x4 are [ 0.14664505 -0.35612063 -0.54088354 -0.26396488  0.00189063]\n",
            "R squared Value of the model is 0.20144817943448712\n",
            "Accuracy on the Test set in (%) is  20.14\n",
            "Mean Squared Error of the model is 0.14206061622714675\n"
          ],
          "name": "stdout"
        }
      ]
    },
    {
      "cell_type": "code",
      "metadata": {
        "colab": {
          "base_uri": "https://localhost:8080/",
          "height": 281
        },
        "id": "Pb5rEXsoE_BZ",
        "outputId": "f31447ae-065d-4ab9-a6fa-5a9067b4a5fa"
      },
      "source": [
        "err=pred-Y_test\n",
        "plt.plot(Y_pred-Y_test,color=\"red\",label=\"ERROR\")\n",
        "plt.title('ERROR IN LINEAR REGRESSION' )\n",
        "plt.legend()\n",
        "plt.show()"
      ],
      "execution_count": null,
      "outputs": [
        {
          "output_type": "display_data",
          "data": {
            "image/png": "[encoded data removed]",
            "text/plain": [
              "<Figure size 432x288 with 1 Axes>"
            ]
          },
          "metadata": {
            "tags": [],
            "needs_background": "light"
          }
        }
      ]
    },
    {
      "cell_type": "code",
      "metadata": {
        "id": "JGXhtyEaSkh8",
        "colab": {
          "base_uri": "https://localhost:8080/"
        },
        "outputId": "86dd3b17-b9c2-4882-f02c-f73a78da580d"
      },
      "source": [
        "print('Accuracy on Train : ', round(reg.score(X_train, Y_train)*100, 2))\n",
        "print('Accuracy on Test : ', round(reg.score(X_test, Y_test)*100, 2))\n",
        "print('Accuracy on Whole Dataset : ', round(reg.score(X, Y)*100, 2))"
      ],
      "execution_count": null,
      "outputs": [
        {
          "output_type": "stream",
          "text": [
            "Accuracy on Train :  16.88\n",
            "Accuracy on Test :  20.14\n",
            "Accuracy on Whole Dataset :  -2051.06\n"
          ],
          "name": "stdout"
        }
      ]
    },
    {
      "cell_type": "markdown",
      "metadata": {
        "id": "SdLShEuxSpai"
      },
      "source": [
        "logistic regression"
      ]
    },
    {
      "cell_type": "code",
      "metadata": {
        "id": "FniW1kIASnU2"
      },
      "source": [
        "from sklearn.linear_model import LogisticRegression"
      ],
      "execution_count": null,
      "outputs": []
    },
    {
      "cell_type": "markdown",
      "metadata": {
        "id": "J43eWuwRhB3M"
      },
      "source": [
        "To find which random state in train test split gives good accuracy, i ran it in  a loop of hundred and found that random state 37 is giving good accuracy of 87.96 . I just followed same random state for all other coming sets"
      ]
    },
    {
      "cell_type": "code",
      "metadata": {
        "colab": {
          "base_uri": "https://localhost:8080/"
        },
        "id": "JarQbTUZLx65",
        "outputId": "b7b71f47-7ab1-438f-ffb7-6a32dd342ebb"
      },
      "source": [
        "from sklearn.model_selection import train_test_split\n",
        "#I'm giving a 40% for testing \n",
        "X_scale=MinMaxScaler().fit_transform(X)\n",
        "for i in range(100):\n",
        "  X_train, X_test, Y_train, Y_test =train_test_split(X_scale,Y,test_size=0.2,random_state=i)\n",
        "  LR = LogisticRegression(random_state=0, solver = 'lbfgs')\n",
        "  LR.fit(X_train, Y_train)\n",
        "  Y_pred = LR.predict(X_test)\n",
        "  acc=round(LR.score(X_test, Y_test)*100, 2)\n",
        "  if acc>85:\n",
        "    print(\"accuracy\",acc)\n",
        "    print(i)\n"
      ],
      "execution_count": null,
      "outputs": [
        {
          "output_type": "stream",
          "text": [
            "accuracy 85.19\n",
            "4\n",
            "accuracy 87.96\n",
            "37\n",
            "accuracy 87.04\n",
            "81\n"
          ],
          "name": "stdout"
        }
      ]
    },
    {
      "cell_type": "code",
      "metadata": {
        "id": "PBttaSEuMkLB"
      },
      "source": [
        "from sklearn.model_selection import train_test_split\n",
        "#I'm giving a 40% for testing \n",
        "X_scale=MinMaxScaler().fit_transform(X)\n",
        "X_train, X_test, Y_train, Y_test =train_test_split(X_scale,Y,test_size=0.2,random_state=37)"
      ],
      "execution_count": null,
      "outputs": []
    },
    {
      "cell_type": "code",
      "metadata": {
        "id": "7p8zLRMcSnZM",
        "colab": {
          "base_uri": "https://localhost:8080/"
        },
        "outputId": "87e0740a-f82f-4f66-dd46-08833fbdafe3"
      },
      "source": [
        "# we can also add penalty\n",
        "LR = LogisticRegression(random_state=0, solver = 'lbfgs')\n",
        "LR.fit(X_train, Y_train)\n",
        "Y_pred = LR.predict(X_test)\n",
        "print(\"Logistic Regression Analysis results\")\n",
        "print(\"----------------------------------\")\n",
        "print('The Coefficients for the model are \\n', LR.coef_)\n",
        "print('Accuracy in(%) on Test set is', round(LR.score(X_test, Y_test)*100, 2))"
      ],
      "execution_count": null,
      "outputs": [
        {
          "output_type": "stream",
          "text": [
            "Logistic Regression Analysis results\n",
            "----------------------------------\n",
            "The Coefficients for the model are \n",
            " [[-0.42931933 -1.53909719 -2.2202025  -0.89754029 -0.35902523]]\n",
            "Accuracy in(%) on Test set is 87.96\n"
          ],
          "name": "stdout"
        }
      ]
    },
    {
      "cell_type": "code",
      "metadata": {
        "colab": {
          "base_uri": "https://localhost:8080/",
          "height": 281
        },
        "id": "iJoD69qlGkOI",
        "outputId": "d83e0e07-ed7d-42f8-c59a-d83a18c08a4a"
      },
      "source": [
        "err=Y_pred-Y_test\n",
        "plt.plot(Y_pred-Y_test,color=\"blue\",label='ERROR')\n",
        "plt.title('Error in Logistic regression' )\n",
        "plt.legend()\n",
        "plt.show()"
      ],
      "execution_count": null,
      "outputs": [
        {
          "output_type": "display_data",
          "data": {
            "image/png": "[encoded data removed]",
            "text/plain": [
              "<Figure size 432x288 with 1 Axes>"
            ]
          },
          "metadata": {
            "tags": [],
            "needs_background": "light"
          }
        }
      ]
    },
    {
      "cell_type": "code",
      "metadata": {
        "colab": {
          "base_uri": "https://localhost:8080/",
          "height": 282
        },
        "id": "L7rgvQnfO2MO",
        "outputId": "56d9a294-b377-4bf4-96cd-986b9c87d345"
      },
      "source": [
        "labels = sorted(DATA['Gender'].unique())\n",
        "\n",
        "sns.heatmap(\n",
        "    confusion_matrix(Y_test, Y_pred),\n",
        "    annot=True,\n",
        "    xticklabels=labels,\n",
        "    yticklabels=labels\n",
        ")"
      ],
      "execution_count": null,
      "outputs": [
        {
          "output_type": "execute_result",
          "data": {
            "text/plain": [
              "<matplotlib.axes._subplots.AxesSubplot at 0x7f0a3a731710>"
            ]
          },
          "metadata": {
            "tags": []
          },
          "execution_count": 79
        },
        {
          "output_type": "display_data",
          "data": {
            "image/png": "[encoded data removed]",
            "text/plain": [
              "<Figure size 432x288 with 2 Axes>"
            ]
          },
          "metadata": {
            "tags": [],
            "needs_background": "light"
          }
        }
      ]
    },
    {
      "cell_type": "code",
      "metadata": {
        "id": "nCfZu0NFSUAR",
        "colab": {
          "base_uri": "https://localhost:8080/"
        },
        "outputId": "6c6a6235-b5bc-42b3-ff72-1b47a35e5b8d"
      },
      "source": [
        "# accuracy \n",
        "print('Accuracy on Train : ', round(LR.score(X_train, Y_train)*100, 2))\n",
        "print('Accuracy on Test : ', round(LR.score(X_test, Y_test)*100, 2))\n",
        "print('Accuracy on Whole Dataset : ', round(LR.score(X, Y)*100, 2))"
      ],
      "execution_count": null,
      "outputs": [
        {
          "output_type": "stream",
          "text": [
            "Accuracy on Train :  76.8\n",
            "Accuracy on Test :  87.96\n",
            "Accuracy on Whole Dataset :  76.07\n"
          ],
          "name": "stdout"
        }
      ]
    },
    {
      "cell_type": "code",
      "metadata": {
        "id": "QdC8sfzKSUBu",
        "colab": {
          "base_uri": "https://localhost:8080/"
        },
        "outputId": "f97da2b9-4899-49e6-cf44-c64d9788daee"
      },
      "source": [
        "from sklearn.metrics import classification_report, confusion_matrix, accuracy_score\n",
        "\n",
        "result = confusion_matrix(Y_test, Y_pred)\n",
        "print(\"Confusion Matrix:\")\n",
        "print(result)\n",
        "\n",
        "result1 = classification_report(Y_test, Y_pred)\n",
        "print(\"\\nClassification Report:\")\n",
        "print (result1)\n",
        "\n",
        "result2 = accuracy_score(Y_test, Y_pred)\n",
        "print(\"\\nAccuracy:\",result2)"
      ],
      "execution_count": null,
      "outputs": [
        {
          "output_type": "stream",
          "text": [
            "Confusion Matrix:\n",
            "[[86  4]\n",
            " [ 9  9]]\n",
            "\n",
            "Classification Report:\n",
            "              precision    recall  f1-score   support\n",
            "\n",
            "           0       0.91      0.96      0.93        90\n",
            "           1       0.69      0.50      0.58        18\n",
            "\n",
            "    accuracy                           0.88       108\n",
            "   macro avg       0.80      0.73      0.76       108\n",
            "weighted avg       0.87      0.88      0.87       108\n",
            "\n",
            "\n",
            "Accuracy: 0.8796296296296297\n"
          ],
          "name": "stdout"
        }
      ]
    },
    {
      "cell_type": "code",
      "metadata": {
        "colab": {
          "base_uri": "https://localhost:8080/"
        },
        "id": "H15NUwE2MbaN",
        "outputId": "7cb0cebf-90b4-4828-fc7d-ef70ca01dfd5"
      },
      "source": [
        "Y_pred"
      ],
      "execution_count": null,
      "outputs": [
        {
          "output_type": "execute_result",
          "data": {
            "text/plain": [
              "array([0, 0, 1, 0, 0, 0, 1, 0, 0, 0, 1, 0, 0, 0, 1, 0, 0, 1, 0, 0, 0, 0,\n",
              "       0, 0, 0, 0, 0, 0, 0, 0, 0, 0, 0, 0, 0, 0, 0, 0, 0, 0, 0, 0, 0, 0,\n",
              "       1, 0, 0, 0, 0, 0, 0, 0, 0, 0, 0, 0, 0, 0, 0, 0, 0, 0, 0, 0, 0, 0,\n",
              "       1, 0, 0, 0, 0, 0, 0, 0, 0, 0, 0, 0, 0, 0, 1, 0, 0, 1, 0, 0, 0, 0,\n",
              "       0, 0, 0, 0, 1, 0, 0, 1, 0, 0, 0, 0, 0, 0, 0, 0, 1, 0, 0, 1])"
            ]
          },
          "metadata": {
            "tags": []
          },
          "execution_count": 65
        }
      ]
    },
    {
      "cell_type": "markdown",
      "metadata": {
        "id": "zQri7nttS5OU"
      },
      "source": [
        "svm"
      ]
    },
    {
      "cell_type": "code",
      "metadata": {
        "id": "k52IkshBS6NS"
      },
      "source": [
        "from sklearn.svm import SVC"
      ],
      "execution_count": null,
      "outputs": []
    },
    {
      "cell_type": "code",
      "metadata": {
        "colab": {
          "base_uri": "https://localhost:8080/"
        },
        "id": "SI_fOuwxRaXj",
        "outputId": "427e5358-8946-496b-cd10-32770808a185"
      },
      "source": [
        "svm = SVC(kernel = 'linear',gamma = 'scale')\n",
        "svm.fit(X_train, Y_train)\n",
        "Y_pred = svm.predict(X_test)\n",
        "print('Results of Support Vector Classification')\n",
        "print('----------------------------------------')\n",
        "print('Accuracy on Test with linear kernal: ', round(svm.score(X_test, Y_test)*100, 2))\n",
        "\n",
        "svm = SVC(kernel = 'poly',gamma = 'scale')\n",
        "svm.fit(X_train, Y_train)\n",
        "Y_pred = svm.predict(X_test)\n",
        "print('Accuracy on Test with polynomial kernal: ', round(svm.score(X_test, Y_test)*100, 2))\n",
        "\n",
        "svm = SVC(kernel = 'rbf',gamma = 'scale')\n",
        "svm.fit(X_train, Y_train)\n",
        "Y_pred = svm.predict(X_test)\n",
        "print('Accuracy on Test with rbf kernal: ', round(svm.score(X_test, Y_test)*100, 2))\n",
        "\n",
        "svm = SVC(kernel = 'sigmoid',gamma = 'scale')\n",
        "svm.fit(X_train, Y_train)\n",
        "Y_pred = svm.predict(X_test)\n",
        "print('Accuracy on Test with sigmoid kernal: ', round(svm.score(X_test, Y_test)*100, 2))\n"
      ],
      "execution_count": null,
      "outputs": [
        {
          "output_type": "stream",
          "text": [
            "Results of Support Vector Classification\n",
            "----------------------------------------\n",
            "Accuracy on Test with linear kernal:  83.33\n",
            "Accuracy on Test with polynomial kernal:  84.26\n",
            "Accuracy on Test with rbf kernal:  88.89\n",
            "Accuracy on Test with sigmoid kernal:  78.7\n"
          ],
          "name": "stdout"
        }
      ]
    },
    {
      "cell_type": "markdown",
      "metadata": {
        "id": "qJ6tkIBuh15Z"
      },
      "source": [
        "rbf kernal is giving accuracy of 88.89"
      ]
    },
    {
      "cell_type": "code",
      "metadata": {
        "colab": {
          "base_uri": "https://localhost:8080/"
        },
        "id": "gauh5V0dUoQM",
        "outputId": "8075e7bb-8a0f-4daf-e688-625467dbd38c"
      },
      "source": [
        "# kernels : ‘linear’, ‘poly’, ‘rbf’, ‘sigmoid’\n",
        "svm = SVC(kernel = 'rbf',gamma = 'scale')\n",
        "svm.fit(X_train, Y_train)\n",
        "Y_pred = svm.predict(X_test)\n",
        "# accuracy \n",
        "print('Accuracy on Train : ', round(svm.score(X_train, Y_train)*100, 2))\n",
        "print('Accuracy on Test : ', round(svm.score(X_test, Y_test)*100, 2))\n",
        "print('Accuracy on Whole Dataset : ', round(svm.score(X, Y)*100, 2))"
      ],
      "execution_count": null,
      "outputs": [
        {
          "output_type": "stream",
          "text": [
            "Accuracy on Train :  79.58\n",
            "Accuracy on Test :  88.89\n",
            "Accuracy on Whole Dataset :  76.07\n"
          ],
          "name": "stdout"
        }
      ]
    },
    {
      "cell_type": "code",
      "metadata": {
        "colab": {
          "base_uri": "https://localhost:8080/"
        },
        "id": "oDXeK6BaU5-o",
        "outputId": "391b0ffe-b9f6-495c-96db-dc98092b6488"
      },
      "source": [
        "from sklearn.metrics import classification_report, confusion_matrix, accuracy_score\n",
        "\n",
        "# Confusion Matrix \n",
        "result = confusion_matrix(Y_test, Y_pred)\n",
        "print(\"Confusion Matrix of the model with rbf kernal:\")\n",
        "print(result)\n",
        "\n",
        "# Classification report\n",
        "result1 = classification_report(Y_test, Y_pred)\n",
        "print(\"\\nClassification Report of the model with rbf kernal:\")\n",
        "print (result1)\n",
        "\n",
        "# Accuracy score\n",
        "result2 = accuracy_score(Y_test, Y_pred)\n",
        "print(\"\\nAccuracy:\",result2)"
      ],
      "execution_count": null,
      "outputs": [
        {
          "output_type": "stream",
          "text": [
            "Confusion Matrix of the model with rbf kernal:\n",
            "[[85  5]\n",
            " [ 7 11]]\n",
            "\n",
            "Classification Report of the model with rbf kernal:\n",
            "              precision    recall  f1-score   support\n",
            "\n",
            "           0       0.92      0.94      0.93        90\n",
            "           1       0.69      0.61      0.65        18\n",
            "\n",
            "    accuracy                           0.89       108\n",
            "   macro avg       0.81      0.78      0.79       108\n",
            "weighted avg       0.88      0.89      0.89       108\n",
            "\n",
            "\n",
            "Accuracy: 0.8888888888888888\n"
          ],
          "name": "stdout"
        }
      ]
    },
    {
      "cell_type": "code",
      "metadata": {
        "colab": {
          "base_uri": "https://localhost:8080/",
          "height": 282
        },
        "id": "ZlajGYOzRelJ",
        "outputId": "6d8f8440-4a65-43ec-9163-204497f088cc"
      },
      "source": [
        "# Transform to df for easier plotting\n",
        "outcome_labels = sorted(DATA['Gender'].unique())\n",
        "\n",
        "sns.heatmap(\n",
        "    confusion_matrix(Y_test, Y_pred),\n",
        "    annot=True,\n",
        "    xticklabels=outcome_labels,\n",
        "    yticklabels=outcome_labels\n",
        ")"
      ],
      "execution_count": null,
      "outputs": [
        {
          "output_type": "execute_result",
          "data": {
            "text/plain": [
              "<matplotlib.axes._subplots.AxesSubplot at 0x7f09f06aea50>"
            ]
          },
          "metadata": {
            "tags": []
          },
          "execution_count": 154
        },
        {
          "output_type": "display_data",
          "data": {
            "image/png": "[encoded data removed]",
            "text/plain": [
              "<Figure size 432x288 with 2 Axes>"
            ]
          },
          "metadata": {
            "tags": [],
            "needs_background": "light"
          }
        }
      ]
    },
    {
      "cell_type": "code",
      "metadata": {
        "colab": {
          "base_uri": "https://localhost:8080/",
          "height": 281
        },
        "id": "kTv3cLOriCKE",
        "outputId": "3f35dfc7-165c-46cb-a7f4-aa1f39c3a505"
      },
      "source": [
        "err=Y_pred-Y_test\n",
        "plt.plot(Y_pred-Y_test,color=\"green\",label='ERROR')\n",
        "plt.title('Error in Support Vector classification with rbf kernal' )\n",
        "plt.legend()\n",
        "plt.show()"
      ],
      "execution_count": null,
      "outputs": [
        {
          "output_type": "display_data",
          "data": {
            "image/png": "[encoded data removed]",
            "text/plain": [
              "<Figure size 432x288 with 1 Axes>"
            ]
          },
          "metadata": {
            "tags": [],
            "needs_background": "light"
          }
        }
      ]
    },
    {
      "cell_type": "markdown",
      "metadata": {
        "id": "srYEMZJ_czJi"
      },
      "source": [
        "Random forest classifier"
      ]
    },
    {
      "cell_type": "code",
      "metadata": {
        "id": "lyTk_-j5SKZD"
      },
      "source": [
        "from sklearn.ensemble import RandomForestClassifier"
      ],
      "execution_count": null,
      "outputs": []
    },
    {
      "cell_type": "code",
      "metadata": {
        "id": "ZQ5rSM0MRA4-",
        "colab": {
          "base_uri": "https://localhost:8080/"
        },
        "outputId": "837ce012-356b-4e8f-cd60-68c8a76ec5b6"
      },
      "source": [
        "RandomForest = RandomForestClassifier(n_estimators = 50)\n",
        "RandomForest.fit(X_train, Y_train)\n",
        "\n",
        "Y_pred = RandomForest.predict(X_test)\n",
        "print(\"Result of Random Forest classifier model\")\n",
        "print(\"----------------------------------\")\n",
        "result2 = accuracy_score(Y_test, Y_pred)\n",
        "print(\"\\nAccuracy of the Random Forest Classifier:\",result2)\n",
        "\n",
        "result = confusion_matrix(Y_test, Y_pred)\n",
        "print(\"Confusion Matrix:\")\n",
        "print(result)\n",
        "\n",
        "# Classification report\n",
        "result1 = classification_report(Y_test, Y_pred)\n",
        "print(\"\\nClassification Report:\")\n",
        "print (result1)\n"
      ],
      "execution_count": null,
      "outputs": [
        {
          "output_type": "stream",
          "text": [
            "Result of Random Forest classifier model\n",
            "----------------------------------\n",
            "\n",
            "Accuracy of the Random Forest Classifier: 0.8425925925925926\n",
            "Confusion Matrix:\n",
            "[[82  8]\n",
            " [ 9  9]]\n",
            "\n",
            "Classification Report:\n",
            "              precision    recall  f1-score   support\n",
            "\n",
            "           0       0.90      0.91      0.91        90\n",
            "           1       0.53      0.50      0.51        18\n",
            "\n",
            "    accuracy                           0.84       108\n",
            "   macro avg       0.72      0.71      0.71       108\n",
            "weighted avg       0.84      0.84      0.84       108\n",
            "\n"
          ],
          "name": "stdout"
        }
      ]
    },
    {
      "cell_type": "code",
      "metadata": {
        "colab": {
          "base_uri": "https://localhost:8080/",
          "height": 299
        },
        "id": "UrFt30kBR3UH",
        "outputId": "bf865d2a-9616-468c-8a63-f4036390d1bd"
      },
      "source": [
        "# Transform to df for easier plotting\n",
        "print(\"Confusion matrix_random forest classifier\")\n",
        "labels = sorted(DATA['Gender'].unique())\n",
        "\n",
        "sns.heatmap(\n",
        "    confusion_matrix(Y_test, Y_pred),\n",
        "    annot=True,\n",
        "    xticklabels=labels,\n",
        "    yticklabels=labels\n",
        ")"
      ],
      "execution_count": null,
      "outputs": [
        {
          "output_type": "stream",
          "text": [
            "Confusion matrix_random forest classifier\n"
          ],
          "name": "stdout"
        },
        {
          "output_type": "execute_result",
          "data": {
            "text/plain": [
              "<matplotlib.axes._subplots.AxesSubplot at 0x7f09f4f47b50>"
            ]
          },
          "metadata": {
            "tags": []
          },
          "execution_count": 159
        },
        {
          "output_type": "display_data",
          "data": {
            "image/png": "[encoded data removed]",
            "text/plain": [
              "<Figure size 432x288 with 2 Axes>"
            ]
          },
          "metadata": {
            "tags": [],
            "needs_background": "light"
          }
        }
      ]
    },
    {
      "cell_type": "code",
      "metadata": {
        "colab": {
          "base_uri": "https://localhost:8080/",
          "height": 281
        },
        "id": "xeyqAGOBiWcB",
        "outputId": "ae416c1d-a5a8-4fc6-d363-b39e95b2bb80"
      },
      "source": [
        "err=Y_pred-Y_test\n",
        "plt.plot(Y_pred-Y_test,color=\"violet\",label='ERROR')\n",
        "plt.title('Error in Random Forest Classifier' )\n",
        "plt.legend()\n",
        "plt.show()"
      ],
      "execution_count": null,
      "outputs": [
        {
          "output_type": "display_data",
          "data": {
            "image/png": "[encoded data removed]",
            "text/plain": [
              "<Figure size 432x288 with 1 Axes>"
            ]
          },
          "metadata": {
            "tags": [],
            "needs_background": "light"
          }
        }
      ]
    },
    {
      "cell_type": "markdown",
      "metadata": {
        "id": "6tQnqNVyTU3A"
      },
      "source": [
        "**Artificial neural net**"
      ]
    },
    {
      "cell_type": "code",
      "metadata": {
        "id": "7gS_sFl9TW8p"
      },
      "source": [
        "from keras.models import Sequential\n",
        "from keras.layers import Dense\n",
        "from keras.utils import to_categorical\n",
        "import tensorflow as tf\n",
        "from keras.layers import Dropout"
      ],
      "execution_count": null,
      "outputs": []
    },
    {
      "cell_type": "code",
      "metadata": {
        "id": "A391gBAcTb5C"
      },
      "source": [
        "def plot_training_history(history, model):\n",
        "    figure = plt.figure()\n",
        "    plt.subplot(1, 2, 1)\n",
        "    plt.plot(history.history['accuracy'])\n",
        "    plt.plot(history.history['val_accuracy'])\n",
        "    plt.title('model accuracy')\n",
        "    plt.ylabel('accuracy')\n",
        "    plt.xlabel('epoch')\n",
        "    plt.legend(['training', 'validation'], loc='best')\n",
        "    plt.tight_layout()\n",
        "\n",
        "    plt.subplot(1, 2, 2)\n",
        "    plt.plot(history.history['loss'])\n",
        "    plt.plot(history.history['val_loss'])\n",
        "    plt.title('model loss')\n",
        "    plt.ylabel('loss')\n",
        "    plt.xlabel('epoch')\n",
        "    plt.legend(['training', 'validation'], loc='best')\n",
        "    plt.tight_layout()\n",
        "    \n",
        "    figure.tight_layout()\n",
        "    plt.show()\n",
        "    \n",
        "    loss, accuracy  = model.evaluate(X_test, Y_test, verbose=False)\n",
        "    print(f'Test loss: {loss:.3}')\n",
        "    print(f'Test accuracy: {accuracy:.3}')"
      ],
      "execution_count": null,
      "outputs": []
    },
    {
      "cell_type": "code",
      "metadata": {
        "colab": {
          "base_uri": "https://localhost:8080/",
          "height": 1000
        },
        "id": "4BwTBTXHikUw",
        "outputId": "38ea74b6-47be-47db-ff13-13caad243622"
      },
      "source": [
        "model_first_part1 = Sequential()\n",
        "#if needed change kernal\n",
        "model_first_part1.add(Dense(units=32,kernel_initializer='uniform', activation='relu', input_dim=5))\n",
        "model_first_part1.add(Dense(units=16, activation='relu'))\n",
        "model_first_part1.add(Dense(units=8, activation='relu'))\n",
        "model_first_part1.add(Dense(units=1, activation='tanh'))\n",
        "#compiling the model\n",
        "model_first_part1.compile(optimizer=\"adam\", loss='binary_crossentropy', metrics=['accuracy'])\n",
        "#lets see how much time epochs take and the model accuracy and everthing, for that lets do fitting\n",
        "history_first_part1 = model_first_part1.fit(X_scale, Y, epochs=40, verbose=True,shuffle=True,validation_split=.2)\n",
        "plot_training_history(history_first_part1,model_first_part1)"
      ],
      "execution_count": null,
      "outputs": [
        {
          "output_type": "stream",
          "text": [
            "Epoch 1/40\n",
            "14/14 [==============================] - 1s 44ms/step - loss: 0.7535 - accuracy: 0.8181 - val_loss: 1.1629 - val_accuracy: 0.5833\n",
            "Epoch 2/40\n",
            "14/14 [==============================] - 0s 6ms/step - loss: 0.5446 - accuracy: 0.8079 - val_loss: 0.9644 - val_accuracy: 0.5833\n",
            "Epoch 3/40\n",
            "14/14 [==============================] - 0s 5ms/step - loss: 0.5405 - accuracy: 0.7957 - val_loss: 0.8981 - val_accuracy: 0.5833\n",
            "Epoch 4/40\n",
            "14/14 [==============================] - 0s 5ms/step - loss: 0.5016 - accuracy: 0.8105 - val_loss: 0.8719 - val_accuracy: 0.5833\n",
            "Epoch 5/40\n",
            "14/14 [==============================] - 0s 5ms/step - loss: 0.5130 - accuracy: 0.8036 - val_loss: 0.8625 - val_accuracy: 0.5833\n",
            "Epoch 6/40\n",
            "14/14 [==============================] - 0s 5ms/step - loss: 0.5487 - accuracy: 0.7777 - val_loss: 0.8515 - val_accuracy: 0.5833\n",
            "Epoch 7/40\n",
            "14/14 [==============================] - 0s 5ms/step - loss: 0.5141 - accuracy: 0.7970 - val_loss: 0.8462 - val_accuracy: 0.5833\n",
            "Epoch 8/40\n",
            "14/14 [==============================] - 0s 5ms/step - loss: 0.4989 - accuracy: 0.8048 - val_loss: 0.8364 - val_accuracy: 0.5833\n",
            "Epoch 9/40\n",
            "14/14 [==============================] - 0s 5ms/step - loss: 0.4968 - accuracy: 0.8032 - val_loss: 0.8253 - val_accuracy: 0.5833\n",
            "Epoch 10/40\n",
            "14/14 [==============================] - 0s 5ms/step - loss: 0.5157 - accuracy: 0.7869 - val_loss: 0.8043 - val_accuracy: 0.5833\n",
            "Epoch 11/40\n",
            "14/14 [==============================] - 0s 5ms/step - loss: 0.4550 - accuracy: 0.8232 - val_loss: 0.8091 - val_accuracy: 0.5833\n",
            "Epoch 12/40\n",
            "14/14 [==============================] - 0s 5ms/step - loss: 0.5048 - accuracy: 0.7909 - val_loss: 0.7638 - val_accuracy: 0.5833\n",
            "Epoch 13/40\n",
            "14/14 [==============================] - 0s 5ms/step - loss: 0.4501 - accuracy: 0.8176 - val_loss: 0.7536 - val_accuracy: 0.5833\n",
            "Epoch 14/40\n",
            "14/14 [==============================] - 0s 5ms/step - loss: 0.4411 - accuracy: 0.8160 - val_loss: 0.7387 - val_accuracy: 0.5833\n",
            "Epoch 15/40\n",
            "14/14 [==============================] - 0s 5ms/step - loss: 0.4517 - accuracy: 0.8140 - val_loss: 0.7123 - val_accuracy: 0.5833\n",
            "Epoch 16/40\n",
            "14/14 [==============================] - 0s 6ms/step - loss: 0.4551 - accuracy: 0.8038 - val_loss: 0.7096 - val_accuracy: 0.5833\n",
            "Epoch 17/40\n",
            "14/14 [==============================] - 0s 6ms/step - loss: 0.4538 - accuracy: 0.8057 - val_loss: 0.6778 - val_accuracy: 0.5833\n",
            "Epoch 18/40\n",
            "14/14 [==============================] - 0s 5ms/step - loss: 0.4486 - accuracy: 0.8063 - val_loss: 0.6857 - val_accuracy: 0.5833\n",
            "Epoch 19/40\n",
            "14/14 [==============================] - 0s 5ms/step - loss: 0.4694 - accuracy: 0.7919 - val_loss: 0.6608 - val_accuracy: 0.5833\n",
            "Epoch 20/40\n",
            "14/14 [==============================] - 0s 5ms/step - loss: 0.4279 - accuracy: 0.8206 - val_loss: 0.6619 - val_accuracy: 0.5833\n",
            "Epoch 21/40\n",
            "14/14 [==============================] - 0s 5ms/step - loss: 0.4349 - accuracy: 0.8216 - val_loss: 0.6475 - val_accuracy: 0.5833\n",
            "Epoch 22/40\n",
            "14/14 [==============================] - 0s 6ms/step - loss: 0.4426 - accuracy: 0.8032 - val_loss: 0.6521 - val_accuracy: 0.5833\n",
            "Epoch 23/40\n",
            "14/14 [==============================] - 0s 5ms/step - loss: 0.4043 - accuracy: 0.8273 - val_loss: 0.6370 - val_accuracy: 0.5926\n",
            "Epoch 24/40\n",
            "14/14 [==============================] - 0s 6ms/step - loss: 0.4371 - accuracy: 0.8194 - val_loss: 0.6226 - val_accuracy: 0.6111\n",
            "Epoch 25/40\n",
            "14/14 [==============================] - 0s 5ms/step - loss: 0.4229 - accuracy: 0.8264 - val_loss: 0.6300 - val_accuracy: 0.6111\n",
            "Epoch 26/40\n",
            "14/14 [==============================] - 0s 5ms/step - loss: 0.4437 - accuracy: 0.8000 - val_loss: 0.6224 - val_accuracy: 0.6111\n",
            "Epoch 27/40\n",
            "14/14 [==============================] - 0s 5ms/step - loss: 0.4294 - accuracy: 0.8107 - val_loss: 0.6211 - val_accuracy: 0.6204\n",
            "Epoch 28/40\n",
            "14/14 [==============================] - 0s 5ms/step - loss: 0.4035 - accuracy: 0.8171 - val_loss: 0.6091 - val_accuracy: 0.5926\n",
            "Epoch 29/40\n",
            "14/14 [==============================] - 0s 5ms/step - loss: 0.4376 - accuracy: 0.8198 - val_loss: 0.6145 - val_accuracy: 0.6019\n",
            "Epoch 30/40\n",
            "14/14 [==============================] - 0s 5ms/step - loss: 0.4188 - accuracy: 0.8117 - val_loss: 0.6180 - val_accuracy: 0.6019\n",
            "Epoch 31/40\n",
            "14/14 [==============================] - 0s 5ms/step - loss: 0.4266 - accuracy: 0.8108 - val_loss: 0.5955 - val_accuracy: 0.6111\n",
            "Epoch 32/40\n",
            "14/14 [==============================] - 0s 5ms/step - loss: 0.4218 - accuracy: 0.8158 - val_loss: 0.6120 - val_accuracy: 0.6019\n",
            "Epoch 33/40\n",
            "14/14 [==============================] - 0s 5ms/step - loss: 0.4061 - accuracy: 0.8156 - val_loss: 0.5971 - val_accuracy: 0.6019\n",
            "Epoch 34/40\n",
            "14/14 [==============================] - 0s 5ms/step - loss: 0.4634 - accuracy: 0.8012 - val_loss: 0.6070 - val_accuracy: 0.6204\n",
            "Epoch 35/40\n",
            "14/14 [==============================] - 0s 5ms/step - loss: 0.4504 - accuracy: 0.8134 - val_loss: 0.5989 - val_accuracy: 0.6019\n",
            "Epoch 36/40\n",
            "14/14 [==============================] - 0s 6ms/step - loss: 0.4147 - accuracy: 0.8178 - val_loss: 0.6016 - val_accuracy: 0.6204\n",
            "Epoch 37/40\n",
            "14/14 [==============================] - 0s 5ms/step - loss: 0.4001 - accuracy: 0.8389 - val_loss: 0.5874 - val_accuracy: 0.6204\n",
            "Epoch 38/40\n",
            "14/14 [==============================] - 0s 5ms/step - loss: 0.4054 - accuracy: 0.8303 - val_loss: 0.5972 - val_accuracy: 0.6204\n",
            "Epoch 39/40\n",
            "14/14 [==============================] - 0s 5ms/step - loss: 0.4516 - accuracy: 0.7988 - val_loss: 0.5932 - val_accuracy: 0.6111\n",
            "Epoch 40/40\n",
            "14/14 [==============================] - 0s 5ms/step - loss: 0.4041 - accuracy: 0.8189 - val_loss: 0.5865 - val_accuracy: 0.6111\n"
          ],
          "name": "stdout"
        },
        {
          "output_type": "display_data",
          "data": {
            "image/png": "[encoded data removed]",
            "text/plain": [
              "<Figure size 432x288 with 2 Axes>"
            ]
          },
          "metadata": {
            "tags": [],
            "needs_background": "light"
          }
        },
        {
          "output_type": "stream",
          "text": [
            "Test loss: 0.446\n",
            "Test accuracy: 0.796\n"
          ],
          "name": "stdout"
        }
      ]
    },
    {
      "cell_type": "code",
      "metadata": {
        "colab": {
          "base_uri": "https://localhost:8080/",
          "height": 353
        },
        "id": "9-iE8JfGiuHs",
        "outputId": "9bc9304a-3d83-46bb-8254-adbb87169fbe"
      },
      "source": [
        "# Transform to df for easier plotting\n",
        "pred=model_first_part1.predict_classes(X_test)\n",
        "print(\"Confusion matrix_ANN\")\n",
        "labels = sorted(DATA['Gender'].unique())\n",
        "\n",
        "sns.heatmap(\n",
        "    confusion_matrix(Y_test, pred),\n",
        "    annot=True,\n",
        "    xticklabels=labels,\n",
        "    yticklabels=labels\n",
        ")"
      ],
      "execution_count": null,
      "outputs": [
        {
          "output_type": "stream",
          "text": [
            "/usr/local/lib/python3.7/dist-packages/tensorflow/python/keras/engine/sequential.py:450: UserWarning: `model.predict_classes()` is deprecated and will be removed after 2021-01-01. Please use instead:* `np.argmax(model.predict(x), axis=-1)`,   if your model does multi-class classification   (e.g. if it uses a `softmax` last-layer activation).* `(model.predict(x) > 0.5).astype(\"int32\")`,   if your model does binary classification   (e.g. if it uses a `sigmoid` last-layer activation).\n",
            "  warnings.warn('`model.predict_classes()` is deprecated and '\n"
          ],
          "name": "stderr"
        },
        {
          "output_type": "stream",
          "text": [
            "Confusion matrix_ANN\n"
          ],
          "name": "stdout"
        },
        {
          "output_type": "execute_result",
          "data": {
            "text/plain": [
              "<matplotlib.axes._subplots.AxesSubplot at 0x7f1be3b7d3d0>"
            ]
          },
          "metadata": {
            "tags": []
          },
          "execution_count": 37
        },
        {
          "output_type": "display_data",
          "data": {
            "image/png": "[encoded data removed]",
            "text/plain": [
              "<Figure size 432x288 with 2 Axes>"
            ]
          },
          "metadata": {
            "tags": [],
            "needs_background": "light"
          }
        }
      ]
    },
    {
      "cell_type": "code",
      "metadata": {
        "colab": {
          "base_uri": "https://localhost:8080/"
        },
        "id": "nwqO008NkwWl",
        "outputId": "be41707e-0e49-4c25-eaca-9f126c38e0c4"
      },
      "source": [
        "Y_test = Y_test[ : , np.newaxis]\n",
        "Y_test"
      ],
      "execution_count": null,
      "outputs": [
        {
          "output_type": "execute_result",
          "data": {
            "text/plain": [
              "array([[0],\n",
              "       [0],\n",
              "       [0],\n",
              "       [0],\n",
              "       [1],\n",
              "       [0],\n",
              "       [1],\n",
              "       [0],\n",
              "       [1],\n",
              "       [0],\n",
              "       [1],\n",
              "       [1],\n",
              "       [1],\n",
              "       [0],\n",
              "       [0],\n",
              "       [1],\n",
              "       [0],\n",
              "       [0],\n",
              "       [0],\n",
              "       [1],\n",
              "       [0],\n",
              "       [0],\n",
              "       [0],\n",
              "       [0],\n",
              "       [0],\n",
              "       [0],\n",
              "       [0],\n",
              "       [0],\n",
              "       [0],\n",
              "       [0],\n",
              "       [0],\n",
              "       [0],\n",
              "       [0],\n",
              "       [0],\n",
              "       [0],\n",
              "       [0],\n",
              "       [0],\n",
              "       [1],\n",
              "       [0],\n",
              "       [0],\n",
              "       [0],\n",
              "       [0],\n",
              "       [0],\n",
              "       [1],\n",
              "       [1],\n",
              "       [0],\n",
              "       [0],\n",
              "       [0],\n",
              "       [0],\n",
              "       [0],\n",
              "       [0],\n",
              "       [0],\n",
              "       [0],\n",
              "       [1],\n",
              "       [0],\n",
              "       [0],\n",
              "       [1],\n",
              "       [0],\n",
              "       [0],\n",
              "       [0],\n",
              "       [0],\n",
              "       [1],\n",
              "       [0],\n",
              "       [0],\n",
              "       [0],\n",
              "       [1],\n",
              "       [0],\n",
              "       [0],\n",
              "       [0],\n",
              "       [0],\n",
              "       [1],\n",
              "       [0],\n",
              "       [0],\n",
              "       [0],\n",
              "       [0],\n",
              "       [1],\n",
              "       [0],\n",
              "       [0],\n",
              "       [0],\n",
              "       [0],\n",
              "       [1],\n",
              "       [0],\n",
              "       [0],\n",
              "       [0],\n",
              "       [0],\n",
              "       [0],\n",
              "       [0],\n",
              "       [0],\n",
              "       [0],\n",
              "       [1],\n",
              "       [0],\n",
              "       [0],\n",
              "       [0],\n",
              "       [0],\n",
              "       [0],\n",
              "       [0],\n",
              "       [0],\n",
              "       [0],\n",
              "       [1],\n",
              "       [0],\n",
              "       [0],\n",
              "       [1],\n",
              "       [0],\n",
              "       [1],\n",
              "       [0],\n",
              "       [1],\n",
              "       [1],\n",
              "       [1]])"
            ]
          },
          "metadata": {
            "tags": []
          },
          "execution_count": 38
        }
      ]
    },
    {
      "cell_type": "code",
      "metadata": {
        "colab": {
          "base_uri": "https://localhost:8080/"
        },
        "id": "pUuVcaSakyi2",
        "outputId": "2717118c-1e8a-4426-872e-3c079a788026"
      },
      "source": [
        "pred.transpose()"
      ],
      "execution_count": null,
      "outputs": [
        {
          "output_type": "execute_result",
          "data": {
            "text/plain": [
              "array([[0, 0, 1, 0, 0, 0, 1, 0, 0, 0, 0, 0, 0, 0, 1, 0, 0, 1, 0, 0, 0, 0,\n",
              "        0, 0, 0, 0, 0, 0, 0, 0, 0, 0, 0, 0, 0, 0, 0, 0, 0, 0, 0, 0, 0, 0,\n",
              "        1, 0, 0, 0, 0, 0, 0, 0, 0, 0, 0, 0, 0, 0, 0, 0, 0, 0, 0, 0, 0, 0,\n",
              "        1, 0, 0, 0, 0, 0, 0, 0, 0, 0, 0, 0, 0, 0, 0, 0, 0, 1, 0, 0, 0, 0,\n",
              "        0, 0, 0, 0, 1, 0, 0, 1, 0, 0, 0, 0, 0, 0, 0, 0, 1, 0, 0, 0]],\n",
              "      dtype=int32)"
            ]
          },
          "metadata": {
            "tags": []
          },
          "execution_count": 187
        }
      ]
    },
    {
      "cell_type": "code",
      "metadata": {
        "colab": {
          "base_uri": "https://localhost:8080/",
          "height": 281
        },
        "id": "TmnSYkCDnKxD",
        "outputId": "1e9d4117-aab5-4f07-fd61-5fccb8e0bc3f"
      },
      "source": [
        "plt.plot(pred-Y_test,color=\"yellow\",label=\"ERROR\")\n",
        "plt.title('Error in ANN' )\n",
        "plt.legend()\n",
        "plt.show()"
      ],
      "execution_count": null,
      "outputs": [
        {
          "output_type": "display_data",
          "data": {
            "image/png": "[encoded data removed]",
            "text/plain": [
              "<Figure size 432x288 with 1 Axes>"
            ]
          },
          "metadata": {
            "tags": [],
            "needs_background": "light"
          }
        }
      ]
    },
    {
      "cell_type": "code",
      "metadata": {
        "colab": {
          "base_uri": "https://localhost:8080/"
        },
        "id": "uwdedYAO6yMi",
        "outputId": "506bf0cd-d51d-45f1-f640-a2346c0202b5"
      },
      "source": [
        "print(\"Result of ANN\")\n",
        "print(\"-------------------------------------------------\")\n",
        "result2 = accuracy_score(Y_test, pred)\n",
        "print(\"\\nAccuracy of the ANN:\",result2)\n",
        "\n",
        "print(\"\")\n",
        "result = confusion_matrix(Y_test, pred)\n",
        "print(\"Confusion Matrix:\")\n",
        "print(result)\n",
        "print(\"\")\n",
        "print(\"Classification report of ANN\")\n",
        "print(classification_report(Y_test,pred))"
      ],
      "execution_count": null,
      "outputs": [
        {
          "output_type": "stream",
          "text": [
            "Result of ANN\n",
            "-------------------------------------------------\n",
            "\n",
            "Accuracy of the ANN: 0.7962962962962963\n",
            "\n",
            "Confusion Matrix:\n",
            "[[79  4]\n",
            " [18  7]]\n",
            "\n",
            "Classification report of ANN\n",
            "              precision    recall  f1-score   support\n",
            "\n",
            "           0       0.81      0.95      0.88        83\n",
            "           1       0.64      0.28      0.39        25\n",
            "\n",
            "    accuracy                           0.80       108\n",
            "   macro avg       0.73      0.62      0.63       108\n",
            "weighted avg       0.77      0.80      0.76       108\n",
            "\n"
          ],
          "name": "stdout"
        }
      ]
    },
    {
      "cell_type": "markdown",
      "metadata": {
        "id": "_sJ19Q5iZYu7"
      },
      "source": [
        "unsupervised machine learning method"
      ]
    },
    {
      "cell_type": "markdown",
      "metadata": {
        "id": "z-NYnndqafb6"
      },
      "source": [
        "kmeans clustering"
      ]
    },
    {
      "cell_type": "code",
      "metadata": {
        "id": "U9-z-FpJXWdf",
        "colab": {
          "base_uri": "https://localhost:8080/"
        },
        "outputId": "82bd406a-855e-49ea-a507-5a92d2b8a8e3"
      },
      "source": [
        "from sklearn.cluster import KMeans\n",
        "model = KMeans(n_clusters=2,random_state=1)\n",
        "model.fit(X_train,Y_train)"
      ],
      "execution_count": null,
      "outputs": [
        {
          "output_type": "execute_result",
          "data": {
            "text/plain": [
              "KMeans(algorithm='auto', copy_x=True, init='k-means++', max_iter=300,\n",
              "       n_clusters=2, n_init=10, n_jobs=None, precompute_distances='auto',\n",
              "       random_state=1, tol=0.0001, verbose=0)"
            ]
          },
          "metadata": {
            "tags": []
          },
          "execution_count": 19
        }
      ]
    },
    {
      "cell_type": "code",
      "metadata": {
        "id": "EnhqEv4qYA5X",
        "colab": {
          "base_uri": "https://localhost:8080/"
        },
        "outputId": "842be63b-3a09-420c-b0f9-2a036cf13d48"
      },
      "source": [
        "model.cluster_centers_"
      ],
      "execution_count": null,
      "outputs": [
        {
          "output_type": "execute_result",
          "data": {
            "text/plain": [
              "array([[0.53180952, 0.59746032, 0.66566667, 0.444     , 0.56      ],\n",
              "       [0.14672089, 0.38823928, 0.39492883, 0.20142349, 0.48754448]])"
            ]
          },
          "metadata": {
            "tags": []
          },
          "execution_count": 20
        }
      ]
    },
    {
      "cell_type": "code",
      "metadata": {
        "id": "ytgiGJYGYGfN",
        "colab": {
          "base_uri": "https://localhost:8080/"
        },
        "outputId": "28bba4bc-10d3-44c4-d6d8-3379af016307"
      },
      "source": [
        "K=model.labels_\n",
        "K"
      ],
      "execution_count": null,
      "outputs": [
        {
          "output_type": "execute_result",
          "data": {
            "text/plain": [
              "array([1, 1, 1, 0, 0, 1, 1, 1, 1, 0, 1, 1, 1, 1, 1, 1, 0, 0, 1, 1, 1, 0,\n",
              "       1, 1, 1, 1, 0, 0, 1, 1, 1, 1, 0, 0, 1, 1, 1, 1, 0, 1, 1, 1, 0, 1,\n",
              "       1, 0, 0, 1, 0, 0, 1, 1, 0, 0, 0, 1, 0, 0, 1, 0, 1, 0, 1, 0, 1, 0,\n",
              "       1, 0, 1, 1, 0, 1, 0, 1, 1, 1, 1, 1, 1, 1, 1, 1, 0, 0, 1, 1, 0, 1,\n",
              "       1, 0, 0, 0, 0, 1, 1, 1, 1, 1, 1, 0, 1, 1, 1, 1, 1, 0, 0, 1, 0, 1,\n",
              "       1, 1, 1, 0, 1, 0, 1, 0, 0, 1, 0, 0, 1, 0, 0, 0, 1, 0, 0, 1, 1, 0,\n",
              "       1, 1, 1, 1, 1, 1, 1, 1, 0, 0, 0, 1, 1, 1, 0, 1, 0, 1, 0, 0, 1, 1,\n",
              "       1, 1, 0, 0, 1, 0, 1, 0, 0, 0, 1, 1, 0, 1, 1, 1, 1, 0, 1, 1, 1, 1,\n",
              "       0, 1, 1, 0, 0, 0, 1, 1, 1, 1, 1, 1, 0, 1, 0, 1, 1, 1, 1, 1, 0, 1,\n",
              "       1, 1, 1, 0, 0, 1, 0, 0, 1, 0, 0, 1, 0, 0, 1, 0, 1, 1, 1, 0, 1, 1,\n",
              "       1, 1, 1, 1, 0, 1, 1, 0, 1, 1, 1, 0, 1, 1, 1, 1, 0, 0, 1, 1, 1, 1,\n",
              "       1, 1, 1, 0, 1, 0, 1, 0, 1, 1, 0, 1, 1, 0, 0, 0, 1, 1, 0, 1, 1, 1,\n",
              "       1, 1, 1, 1, 1, 1, 1, 0, 0, 0, 1, 1, 1, 0, 0, 1, 1, 1, 1, 1, 0, 1,\n",
              "       1, 1, 1, 1, 0, 1, 1, 1, 0, 0, 0, 0, 1, 1, 0, 1, 1, 1, 1, 1, 0, 1,\n",
              "       1, 1, 0, 1, 1, 0, 0, 1, 0, 1, 1, 0, 1, 0, 1, 1, 1, 1, 0, 0, 1, 0,\n",
              "       1, 0, 1, 1, 1, 0, 0, 1, 0, 0, 0, 1, 1, 1, 1, 1, 1, 0, 1, 1, 1, 1,\n",
              "       1, 1, 0, 1, 1, 0, 0, 1, 0, 0, 1, 0, 1, 1, 1, 1, 1, 0, 1, 1, 1, 1,\n",
              "       1, 1, 1, 0, 1, 0, 0, 1, 1, 1, 1, 1, 1, 1, 1, 0, 1, 0, 1, 1, 1, 1,\n",
              "       1, 1, 1, 1, 1, 1, 0, 1, 0, 1, 0, 1, 0, 1, 1, 0, 1, 0, 0, 0, 1, 0,\n",
              "       0, 1, 1, 1, 1, 1, 1, 1, 1, 0, 1, 0, 0], dtype=int32)"
            ]
          },
          "metadata": {
            "tags": []
          },
          "execution_count": 21
        }
      ]
    },
    {
      "cell_type": "code",
      "metadata": {
        "colab": {
          "base_uri": "https://localhost:8080/"
        },
        "id": "0hgvSyuexI5B",
        "outputId": "5ee18f29-f377-4b1c-849f-2e46db8d2ff1"
      },
      "source": [
        "pred=model.predict(X_test)\n",
        "pred"
      ],
      "execution_count": null,
      "outputs": [
        {
          "output_type": "execute_result",
          "data": {
            "text/plain": [
              "array([1, 1, 0, 1, 0, 1, 1, 1, 1, 0, 1, 1, 1, 1, 0, 1, 1, 1, 1, 1, 0, 1,\n",
              "       0, 1, 0, 1, 0, 1, 1, 1, 1, 1, 1, 0, 1, 0, 1, 1, 1, 0, 0, 0, 0, 1,\n",
              "       1, 1, 1, 0, 0, 0, 0, 0, 1, 1, 0, 0, 1, 1, 1, 1, 0, 1, 1, 1, 0, 1,\n",
              "       1, 1, 1, 1, 1, 0, 1, 0, 0, 1, 0, 0, 1, 0, 0, 1, 1, 1, 1, 1, 0, 0,\n",
              "       1, 0, 0, 1, 1, 1, 1, 0, 1, 0, 1, 1, 0, 1, 0, 1, 1, 0, 1, 1],\n",
              "      dtype=int32)"
            ]
          },
          "metadata": {
            "tags": []
          },
          "execution_count": 22
        }
      ]
    },
    {
      "cell_type": "code",
      "metadata": {
        "colab": {
          "base_uri": "https://localhost:8080/",
          "height": 299
        },
        "id": "UNvtQVS1bd2M",
        "outputId": "c94f58a5-4e87-44d3-f87b-1f577585e598"
      },
      "source": [
        "from sklearn.metrics import classification_report, confusion_matrix, accuracy_score\n",
        "print(\"Confusion matrix_unsupervised learning\")\n",
        "import seaborn as sns\n",
        "labels = sorted(DATA['Gender'].unique())\n",
        "\n",
        "sns.heatmap(\n",
        "    confusion_matrix(Y_test, pred),\n",
        "    annot=True,\n",
        "    xticklabels=labels,\n",
        "    yticklabels=labels\n",
        ")"
      ],
      "execution_count": null,
      "outputs": [
        {
          "output_type": "stream",
          "text": [
            "Confusion matrix_unsupervised learning\n"
          ],
          "name": "stdout"
        },
        {
          "output_type": "execute_result",
          "data": {
            "text/plain": [
              "<matplotlib.axes._subplots.AxesSubplot at 0x7f1c1c6482d0>"
            ]
          },
          "metadata": {
            "tags": []
          },
          "execution_count": 25
        },
        {
          "output_type": "display_data",
          "data": {
            "image/png": "[encoded data removed]",
            "text/plain": [
              "<Figure size 432x288 with 2 Axes>"
            ]
          },
          "metadata": {
            "tags": [],
            "needs_background": "light"
          }
        }
      ]
    },
    {
      "cell_type": "code",
      "metadata": {
        "colab": {
          "base_uri": "https://localhost:8080/",
          "height": 281
        },
        "id": "XC2-wn_-nY5G",
        "outputId": "6a62088c-62ff-43ed-eb81-9c642dd5217b"
      },
      "source": [
        "plt.plot(pred-Y_test,color=\"yellow\",label=\"ERROR\")\n",
        "plt.title('Error in Unsupervised learning' )\n",
        "plt.legend()\n",
        "plt.show()"
      ],
      "execution_count": null,
      "outputs": [
        {
          "output_type": "display_data",
          "data": {
            "image/png": "[encoded data removed]",
            "text/plain": [
              "<Figure size 432x288 with 1 Axes>"
            ]
          },
          "metadata": {
            "tags": [],
            "needs_background": "light"
          }
        }
      ]
    },
    {
      "cell_type": "code",
      "metadata": {
        "id": "v0tFWuSde_8s"
      },
      "source": [
        "#A clustering result satisfies completeness if all the data points that are members of a given class are elements of the same cluster."
      ],
      "execution_count": null,
      "outputs": []
    },
    {
      "cell_type": "code",
      "metadata": {
        "colab": {
          "base_uri": "https://localhost:8080/"
        },
        "id": "gJrengaTZzqN",
        "outputId": "ab01ba11-2126-48cd-9ba0-82fbf27671df"
      },
      "source": [
        "print(\"Result of KMeans Clustering Model with 2 clusters\")\n",
        "print(\"-------------------------------------------------\")\n",
        "result2 = accuracy_score(Y_test, pred)\n",
        "print(\"\\nAccuracy of the KMeans Clutering Model:\",result2)\n",
        "\n",
        "print(\"\")\n",
        "result = confusion_matrix(Y_test, pred)\n",
        "print(\"Confusion Matrix:\")\n",
        "print(result)\n",
        "print(\"\")\n",
        "print(\"Classification report of KMeans Clutering Model\")\n",
        "print(classification_report(Y_test,pred))"
      ],
      "execution_count": null,
      "outputs": [
        {
          "output_type": "stream",
          "text": [
            "Result of KMeans Clustering Model with 2 clusters\n",
            "-------------------------------------------------\n",
            "\n",
            "Accuracy of the KMeans Clutering Model: 0.5185185185185185\n",
            "\n",
            "Confusion Matrix:\n",
            "[[35 48]\n",
            " [ 4 21]]\n",
            "\n",
            "Classification report of KMeans Clutering Model\n",
            "              precision    recall  f1-score   support\n",
            "\n",
            "           0       0.90      0.42      0.57        83\n",
            "           1       0.30      0.84      0.45        25\n",
            "\n",
            "    accuracy                           0.52       108\n",
            "   macro avg       0.60      0.63      0.51       108\n",
            "weighted avg       0.76      0.52      0.54       108\n",
            "\n"
          ],
          "name": "stdout"
        }
      ]
    },
    {
      "cell_type": "markdown",
      "metadata": {
        "id": "dU_OAxYobZ0v"
      },
      "source": [
        "MODEL                                           ACCURACY\n",
        "\n",
        "Support Vector Classification(with rbf kernel)-----\t88.89\n",
        "\n",
        "Logistic regression                                \t87.96\n",
        "\n",
        "Random Forest classification\t                  84.25\n",
        "\n",
        "ANN                                            \t79.6\n",
        "\n",
        "Unsupervised Learning\t                          51.85\n",
        "\n",
        "Linear Regression\t                              20.14\n"
      ]
    },
    {
      "cell_type": "markdown",
      "metadata": {
        "id": "8rbrjgj5b-fr"
      },
      "source": [
        "BEST PREDICTIVE MODEL FOR Predicting the gender of a school teacher using perceived stress level, perceived anxiety level and demographic features of them. ----> **Support Vector Regression(with rbf kernel)**\n",
        "\n",
        "WORST PREDICTIVE MODEL FOR Predicting the gender of a school teacher using perceived stress level, perceived anxiety level and demographic features of them. ------> **Linear Regression**\n"
      ]
    },
    {
      "cell_type": "markdown",
      "metadata": {
        "id": "NfDw5k0No442"
      },
      "source": [
        "# **Reference**\n",
        "\n",
        "DATA:-\n",
        "\n",
        "Maheshwari, Prachi; Saha, Shilpasree; Vaish, Hina (2020), “Level of perceived stress and anxiety among school teachers in COVID 19 pandemic”, Mendeley Data, V1, doi: 10.17632/yhmb6psmpm.1"
      ]
    }
  ]
}